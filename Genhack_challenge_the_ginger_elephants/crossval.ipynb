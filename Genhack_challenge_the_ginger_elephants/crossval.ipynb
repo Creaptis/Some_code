{
  "cells": [
    {
      "cell_type": "code",
      "execution_count": null,
      "metadata": {
        "id": "9f74f32c-7274-44ba-83d6-63a77fc48257"
      },
      "outputs": [],
      "source": [
        "from sklearn.model_selection import train_test_split\n",
        "import pandas as pd\n",
        "from sklearn.preprocessing import MinMaxScaler\n",
        "import numpy as np\n",
        "import os\n",
        "import tensorflow as tf\n",
        "from pathlib import Path\n",
        "from tensorflow.keras.layers import GRU, Dense, RNN, GRUCell, Input\n",
        "from tensorflow.keras.models import Sequential, Model\n",
        "from tensorflow.keras.losses import BinaryCrossentropy, MeanSquaredError\n",
        "from tensorflow.keras.optimizers import Adam\n",
        "from tqdm import tqdm\n",
        "import matplotlib.pyplot as plt\n",
        "import seaborn as sns"
      ],
      "id": "9f74f32c-7274-44ba-83d6-63a77fc48257"
    },
    {
      "cell_type": "code",
      "execution_count": null,
      "metadata": {
        "colab": {
          "base_uri": "https://localhost:8080/"
        },
        "id": "0d324f81-7885-4444-b66c-685dfb2c0af9",
        "outputId": "1c9eb6d1-6bce-48fd-9c68-7a32a7be0e13"
      },
      "outputs": [
        {
          "name": "stdout",
          "output_type": "stream",
          "text": [
            "Using GPU\n"
          ]
        }
      ],
      "source": [
        "gpu_devices = tf.config.experimental.list_physical_devices('GPU')\n",
        "if gpu_devices:\n",
        "    print('Using GPU')\n",
        "    tf.config.experimental.set_memory_growth(gpu_devices[0], True)\n",
        "else:\n",
        "    print('Using CPU')"
      ],
      "id": "0d324f81-7885-4444-b66c-685dfb2c0af9"
    },
    {
      "cell_type": "code",
      "execution_count": null,
      "metadata": {
        "id": "1cb35127-b673-44f4-86c7-fcde30948e0d"
      },
      "outputs": [],
      "source": [
        "experiment = 0"
      ],
      "id": "1cb35127-b673-44f4-86c7-fcde30948e0d"
    },
    {
      "cell_type": "code",
      "execution_count": null,
      "metadata": {
        "id": "951abd12-9b32-4394-b1b9-2d34a259b4ce"
      },
      "outputs": [],
      "source": [
        "results_path = Path('time_gan')\n",
        "if not results_path.exists():\n",
        "    results_path.mkdir()"
      ],
      "id": "951abd12-9b32-4394-b1b9-2d34a259b4ce"
    },
    {
      "cell_type": "code",
      "execution_count": null,
      "metadata": {
        "id": "baa1ffe6-ee63-4251-bf46-2153ef969ea6"
      },
      "outputs": [],
      "source": [
        "log_dir = results_path / f'experiment_{experiment:02}'\n",
        "if not log_dir.exists():\n",
        "    log_dir.mkdir(parents=True)"
      ],
      "id": "baa1ffe6-ee63-4251-bf46-2153ef969ea6"
    },
    {
      "cell_type": "code",
      "execution_count": null,
      "metadata": {
        "id": "62014043-2042-455f-a2ea-acd83c207b61"
      },
      "outputs": [],
      "source": [
        "hdf_store = results_path / 'TimeSeriesGAN.h5'"
      ],
      "id": "62014043-2042-455f-a2ea-acd83c207b61"
    },
    {
      "cell_type": "code",
      "execution_count": null,
      "metadata": {
        "id": "babee617-b872-4ccc-82b3-849c90193398"
      },
      "outputs": [],
      "source": [
        "seq_len = 10\n",
        "n_seq = 6\n",
        "batch_size = 128"
      ],
      "id": "babee617-b872-4ccc-82b3-849c90193398"
    },
    {
      "cell_type": "code",
      "execution_count": null,
      "metadata": {
        "id": "3e786373-cb41-4eb5-b865-06923a6ba9fb"
      },
      "outputs": [],
      "source": [
        "tickers = ['s1', 's2', 's3', 's4', 's5', 's6']"
      ],
      "id": "3e786373-cb41-4eb5-b865-06923a6ba9fb"
    },
    {
      "cell_type": "code",
      "execution_count": null,
      "metadata": {
        "colab": {
          "base_uri": "https://localhost:8080/"
        },
        "id": "EBAUCpURdBKA",
        "outputId": "eaacd195-6db3-4345-8e0a-5a6dfc5d9486"
      },
      "outputs": [
        {
          "name": "stdout",
          "output_type": "stream",
          "text": [
            "Mounted at /content/drive\n"
          ]
        }
      ],
      "source": [
        "from google.colab import drive\n",
        "drive.mount('/content/drive')"
      ],
      "id": "EBAUCpURdBKA"
    },
    {
      "cell_type": "code",
      "execution_count": null,
      "metadata": {
        "id": "LKGucHLfl_ut"
      },
      "outputs": [],
      "source": [
        "# Roland and Luca\n",
        "df_train = pd.read_csv(\"./drive/MyDrive/genhack/data/df_train.csv\")"
      ],
      "id": "LKGucHLfl_ut"
    },
    {
      "cell_type": "code",
      "execution_count": null,
      "metadata": {
        "id": "KESxRQ06cpAA"
      },
      "outputs": [],
      "source": [
        "# Pierre\n",
        "# df_train = pd.read_csv(\"./drive/MyDrive/Master Data Science - Polytechnique/MCMC/GenHack/data/df_train.csv\")"
      ],
      "id": "KESxRQ06cpAA"
    },
    {
      "cell_type": "code",
      "execution_count": null,
      "metadata": {
        "colab": {
          "base_uri": "https://localhost:8080/"
        },
        "id": "db05847d-2a31-4900-a6fd-3fea7eaaa743",
        "outputId": "0af3fdeb-5ec6-46bd-97d1-cab760e4f547"
      },
      "outputs": [
        {
          "name": "stderr",
          "output_type": "stream",
          "text": [
            "<ipython-input-12-f807ded3c949>:2: FutureWarning: In a future version of pandas all arguments of DataFrame.drop except for the argument 'labels' will be keyword-only\n",
            "  df = df_train.drop('dates',1)\n"
          ]
        }
      ],
      "source": [
        "#df_train = pd.read_csv(os.getcwd()+'/the_ginger_elephants-master/data/df_train.csv')\n",
        "df = df_train.drop('dates',1)"
      ],
      "id": "db05847d-2a31-4900-a6fd-3fea7eaaa743"
    },
    {
      "cell_type": "code",
      "execution_count": null,
      "metadata": {
        "id": "3c90ec1a-35a6-41d7-9e56-d0f71cdf85e6"
      },
      "outputs": [],
      "source": [
        "train, test = train_test_split(df, test_size=0.2, shuffle=False)"
      ],
      "id": "3c90ec1a-35a6-41d7-9e56-d0f71cdf85e6"
    },
    {
      "cell_type": "code",
      "execution_count": null,
      "metadata": {
        "id": "ed9d457c-c5ae-4c69-a1a0-ee943e2d4d58"
      },
      "outputs": [],
      "source": [
        "scaler = MinMaxScaler()\n",
        "scaled_data = scaler.fit_transform(train).astype(np.float32)"
      ],
      "id": "ed9d457c-c5ae-4c69-a1a0-ee943e2d4d58"
    },
    {
      "cell_type": "code",
      "execution_count": null,
      "metadata": {
        "colab": {
          "base_uri": "https://localhost:8080/"
        },
        "id": "3d9fa5e2-3dd1-4e47-a25d-711739540092",
        "outputId": "fa35d4a6-de78-4d62-dc2d-74c2a0ac277c"
      },
      "outputs": [
        {
          "data": {
            "text/plain": [
              "(7694, 6)"
            ]
          },
          "execution_count": 16,
          "metadata": {},
          "output_type": "execute_result"
        }
      ],
      "source": [
        "scaled_data.shape"
      ],
      "id": "3d9fa5e2-3dd1-4e47-a25d-711739540092"
    },
    {
      "cell_type": "code",
      "execution_count": null,
      "metadata": {
        "id": "836ef621-89df-4406-b62e-9ce6d66c4510"
      },
      "outputs": [],
      "source": [
        "seq_len = 1920"
      ],
      "id": "836ef621-89df-4406-b62e-9ce6d66c4510"
    },
    {
      "cell_type": "code",
      "execution_count": null,
      "metadata": {
        "id": "1ff21d6f-fa1a-45d7-8340-eccc3a6be4a0"
      },
      "outputs": [],
      "source": [
        "data = []\n",
        "for i in range(len(train) - seq_len):\n",
        "    data.append(scaled_data[i:i + seq_len])\n",
        "\n",
        "n_windows = len(data)"
      ],
      "id": "1ff21d6f-fa1a-45d7-8340-eccc3a6be4a0"
    },
    {
      "cell_type": "code",
      "execution_count": null,
      "metadata": {
        "colab": {
          "background_save": true
        },
        "id": "e0aaffee-3355-4a2c-8d1f-76cabfa8d55e"
      },
      "outputs": [],
      "source": [
        "real_series = (tf.data.Dataset\n",
        "               .from_tensor_slices(data)\n",
        "               .shuffle(buffer_size=n_windows)\n",
        "               .batch(batch_size))\n",
        "real_series_iter = iter(real_series.repeat())"
      ],
      "id": "e0aaffee-3355-4a2c-8d1f-76cabfa8d55e"
    },
    {
      "cell_type": "code",
      "execution_count": null,
      "metadata": {
        "colab": {
          "background_save": true
        },
        "id": "v-LRYTKFnDzH",
        "outputId": "da2f0a70-f828-44ed-d3ed-e2bf96748ace"
      },
      "outputs": [
        {
          "ename": "FileNotFoundError",
          "evalue": "ignored",
          "output_type": "error",
          "traceback": [
            "\u001b[0;31m---------------------------------------------------------------------------\u001b[0m",
            "\u001b[0;31mFileNotFoundError\u001b[0m                         Traceback (most recent call last)",
            "\u001b[0;32m<ipython-input-20-ba3d06e09475>\u001b[0m in \u001b[0;36m<module>\u001b[0;34m\u001b[0m\n\u001b[1;32m      1\u001b[0m \u001b[0;31m# Luca\u001b[0m\u001b[0;34m\u001b[0m\u001b[0;34m\u001b[0m\u001b[0;34m\u001b[0m\u001b[0m\n\u001b[0;32m----> 2\u001b[0;31m \u001b[0mnoise\u001b[0m \u001b[0;34m=\u001b[0m \u001b[0mnp\u001b[0m\u001b[0;34m.\u001b[0m\u001b[0mload\u001b[0m\u001b[0;34m(\u001b[0m\u001b[0;34m\"./drive/MyDrive/genhack/data/noise.npy\"\u001b[0m\u001b[0;34m)\u001b[0m\u001b[0;34m\u001b[0m\u001b[0;34m\u001b[0m\u001b[0m\n\u001b[0m",
            "\u001b[0;32m/usr/local/lib/python3.8/dist-packages/numpy/lib/npyio.py\u001b[0m in \u001b[0;36mload\u001b[0;34m(file, mmap_mode, allow_pickle, fix_imports, encoding)\u001b[0m\n\u001b[1;32m    415\u001b[0m             \u001b[0mown_fid\u001b[0m \u001b[0;34m=\u001b[0m \u001b[0;32mFalse\u001b[0m\u001b[0;34m\u001b[0m\u001b[0;34m\u001b[0m\u001b[0m\n\u001b[1;32m    416\u001b[0m         \u001b[0;32melse\u001b[0m\u001b[0;34m:\u001b[0m\u001b[0;34m\u001b[0m\u001b[0;34m\u001b[0m\u001b[0m\n\u001b[0;32m--> 417\u001b[0;31m             \u001b[0mfid\u001b[0m \u001b[0;34m=\u001b[0m \u001b[0mstack\u001b[0m\u001b[0;34m.\u001b[0m\u001b[0menter_context\u001b[0m\u001b[0;34m(\u001b[0m\u001b[0mopen\u001b[0m\u001b[0;34m(\u001b[0m\u001b[0mos_fspath\u001b[0m\u001b[0;34m(\u001b[0m\u001b[0mfile\u001b[0m\u001b[0;34m)\u001b[0m\u001b[0;34m,\u001b[0m \u001b[0;34m\"rb\"\u001b[0m\u001b[0;34m)\u001b[0m\u001b[0;34m)\u001b[0m\u001b[0;34m\u001b[0m\u001b[0;34m\u001b[0m\u001b[0m\n\u001b[0m\u001b[1;32m    418\u001b[0m             \u001b[0mown_fid\u001b[0m \u001b[0;34m=\u001b[0m \u001b[0;32mTrue\u001b[0m\u001b[0;34m\u001b[0m\u001b[0;34m\u001b[0m\u001b[0m\n\u001b[1;32m    419\u001b[0m \u001b[0;34m\u001b[0m\u001b[0m\n",
            "\u001b[0;31mFileNotFoundError\u001b[0m: [Errno 2] No such file or directory: './drive/MyDrive/genhack/data/noise.npy'"
          ]
        }
      ],
      "source": [
        "# Roland and Luca\n",
        "noise = np.load(\"./drive/MyDrive/genhack/data/noise.npy\")"
      ],
      "id": "v-LRYTKFnDzH"
    },
    {
      "cell_type": "code",
      "execution_count": null,
      "metadata": {
        "colab": {
          "background_save": true
        },
        "id": "L8AsAUdFnFEZ"
      },
      "outputs": [],
      "source": [
        "# Pierre\n",
        "##noise = np.load(os.getcwd()+'/the_ginger_elephants-master/data/noise.npy')\n",
        "\n",
        "#noise = np.load(\"./drive/MyDrive/Master Data Science - Polytechnique/MCMC/GenHack/data/noise.npy\")"
      ],
      "id": "L8AsAUdFnFEZ"
    },
    {
      "cell_type": "code",
      "execution_count": null,
      "metadata": {
        "colab": {
          "background_save": true
        },
        "id": "a363ee3d-fb68-47e2-982d-1466e057b0c5"
      },
      "outputs": [],
      "source": [
        "noise = np.tile(noise,(192,1))\n",
        "noise = noise[:,:10]\n",
        "\n",
        "\n",
        "def make_random_data():\n",
        "    while True:\n",
        "        yield noise\n",
        "        \n",
        "# create 128 * noise shape (10,50)\n",
        "random_series = iter(tf.data.Dataset\n",
        "                     .from_generator(make_random_data, output_types=tf.float32)\n",
        "                     .batch(batch_size)\n",
        "                     .repeat())"
      ],
      "id": "a363ee3d-fb68-47e2-982d-1466e057b0c5"
    },
    {
      "cell_type": "code",
      "execution_count": null,
      "metadata": {
        "colab": {
          "background_save": true
        },
        "id": "h6MmZpl9qwgr"
      },
      "outputs": [],
      "source": [
        "next(random_series).shape"
      ],
      "id": "h6MmZpl9qwgr"
    },
    {
      "cell_type": "code",
      "execution_count": null,
      "metadata": {
        "colab": {
          "background_save": true
        },
        "id": "cf22b312-18c0-4c70-a084-8409c72b57d1"
      },
      "outputs": [],
      "source": [
        "hidden_dim = 5\n",
        "num_layers = 3"
      ],
      "id": "cf22b312-18c0-4c70-a084-8409c72b57d1"
    },
    {
      "cell_type": "code",
      "execution_count": null,
      "metadata": {
        "colab": {
          "background_save": true
        },
        "id": "fa661081-5b16-4076-9017-bf2d920e9175"
      },
      "outputs": [],
      "source": [
        "writer = tf.summary.create_file_writer(log_dir.as_posix())"
      ],
      "id": "fa661081-5b16-4076-9017-bf2d920e9175"
    },
    {
      "cell_type": "code",
      "execution_count": null,
      "metadata": {
        "colab": {
          "background_save": true
        },
        "id": "d15880dd-8d27-43b0-985b-f942906c6664"
      },
      "outputs": [],
      "source": [
        "#X = Input(shape=[10, n_seq], name='RealData')\n",
        "#Z = Input(shape=[10, 50], name='RandomData')\n",
        "\n",
        "X = Input(shape=[seq_len, n_seq], name='RealData')\n",
        "Z = Input(shape=[seq_len, 10], name='RandomData')"
      ],
      "id": "d15880dd-8d27-43b0-985b-f942906c6664"
    },
    {
      "cell_type": "code",
      "execution_count": null,
      "metadata": {
        "colab": {
          "background_save": true
        },
        "id": "Kq6NTg26nzd_"
      },
      "outputs": [],
      "source": [
        "X,Z"
      ],
      "id": "Kq6NTg26nzd_"
    },
    {
      "cell_type": "code",
      "execution_count": null,
      "metadata": {
        "colab": {
          "background_save": true
        },
        "id": "b4cdf289-b4db-4d78-b99d-9e2e3a6d6e43"
      },
      "outputs": [],
      "source": [
        "def make_rnn(n_layers, hidden_units, output_units, name):\n",
        "    return Sequential([GRU(units=hidden_units,\n",
        "                           return_sequences=True,\n",
        "                           name=f'GRU_{i + 1}') for i in range(n_layers)] +\n",
        "                      [Dense(units=output_units,\n",
        "                             activation='sigmoid',\n",
        "                             name='OUT')], name=name)"
      ],
      "id": "b4cdf289-b4db-4d78-b99d-9e2e3a6d6e43"
    },
    {
      "cell_type": "code",
      "execution_count": null,
      "metadata": {
        "colab": {
          "background_save": true
        },
        "id": "8aabef8c-ac84-4b30-b6c8-2d60832f2af1"
      },
      "outputs": [],
      "source": [
        "embedder = make_rnn(n_layers=3, \n",
        "                    hidden_units=hidden_dim, \n",
        "                    output_units=hidden_dim, \n",
        "                    name='Embedder')\n",
        "recovery = make_rnn(n_layers=3, \n",
        "                    hidden_units=hidden_dim, \n",
        "                    output_units=n_seq, \n",
        "                    name='Recovery')"
      ],
      "id": "8aabef8c-ac84-4b30-b6c8-2d60832f2af1"
    },
    {
      "cell_type": "code",
      "execution_count": null,
      "metadata": {
        "colab": {
          "background_save": true
        },
        "id": "05eed816-77fa-4291-a979-42c0dbb4d41c"
      },
      "outputs": [],
      "source": [
        "generator = make_rnn(n_layers=3, \n",
        "                     hidden_units=hidden_dim, \n",
        "                     output_units=hidden_dim, \n",
        "                     name='Generator')\n",
        "discriminator = make_rnn(n_layers=3, \n",
        "                         hidden_units=hidden_dim, \n",
        "                         output_units=1, \n",
        "                         name='Discriminator')\n",
        "supervisor = make_rnn(n_layers=2, \n",
        "                      hidden_units=hidden_dim, \n",
        "                      output_units=hidden_dim, \n",
        "                      name='Supervisor')"
      ],
      "id": "05eed816-77fa-4291-a979-42c0dbb4d41c"
    },
    {
      "cell_type": "code",
      "execution_count": null,
      "metadata": {
        "colab": {
          "background_save": true
        },
        "id": "1d3abfe7-e3ae-4219-a275-34e4b654bfb8"
      },
      "outputs": [],
      "source": [
        "train_steps = 1000\n",
        "gamma = 1"
      ],
      "id": "1d3abfe7-e3ae-4219-a275-34e4b654bfb8"
    },
    {
      "cell_type": "code",
      "execution_count": null,
      "metadata": {
        "colab": {
          "background_save": true
        },
        "id": "18be1925-c1eb-44ee-9436-a3206ffc6e85"
      },
      "outputs": [],
      "source": [
        "mse = MeanSquaredError()\n",
        "bce = BinaryCrossentropy()"
      ],
      "id": "18be1925-c1eb-44ee-9436-a3206ffc6e85"
    },
    {
      "cell_type": "code",
      "execution_count": null,
      "metadata": {
        "colab": {
          "background_save": true
        },
        "id": "0281c07c-007c-4d30-b8ab-de39ded771ce"
      },
      "outputs": [],
      "source": [
        "H = embedder(X)\n",
        "X_tilde = recovery(H)\n",
        "\n",
        "autoencoder = Model(inputs=X,\n",
        "                    outputs=X_tilde,\n",
        "                    name='Autoencoder')"
      ],
      "id": "0281c07c-007c-4d30-b8ab-de39ded771ce"
    },
    {
      "cell_type": "code",
      "execution_count": null,
      "metadata": {
        "colab": {
          "background_save": true
        },
        "id": "82ab194a-a3e4-48e9-88df-ae8aac94ce67"
      },
      "outputs": [],
      "source": [
        "autoencoder.summary()"
      ],
      "id": "82ab194a-a3e4-48e9-88df-ae8aac94ce67"
    },
    {
      "cell_type": "code",
      "execution_count": null,
      "metadata": {
        "colab": {
          "background_save": true
        },
        "id": "08858ce9-a820-461f-a808-6c7ddf49d1d0"
      },
      "outputs": [],
      "source": [
        "autoencoder_optimizer = Adam()"
      ],
      "id": "08858ce9-a820-461f-a808-6c7ddf49d1d0"
    },
    {
      "cell_type": "code",
      "execution_count": null,
      "metadata": {
        "colab": {
          "background_save": true
        },
        "id": "091731e0-144b-4b95-89d7-54a10a1c92a1"
      },
      "outputs": [],
      "source": [
        "@tf.function\n",
        "def train_autoencoder_init(x):\n",
        "    with tf.GradientTape() as tape:\n",
        "        x_tilde = autoencoder(x)\n",
        "        embedding_loss_t0 = mse(x, x_tilde)\n",
        "        e_loss_0 = 10 * tf.sqrt(embedding_loss_t0)\n",
        "\n",
        "    var_list = embedder.trainable_variables + recovery.trainable_variables\n",
        "    gradients = tape.gradient(e_loss_0, var_list)\n",
        "    autoencoder_optimizer.apply_gradients(zip(gradients, var_list))\n",
        "    return tf.sqrt(embedding_loss_t0)"
      ],
      "id": "091731e0-144b-4b95-89d7-54a10a1c92a1"
    },
    {
      "cell_type": "code",
      "execution_count": null,
      "metadata": {
        "colab": {
          "background_save": true
        },
        "id": "4c94968f-7194-43e3-940a-88355aa0351c"
      },
      "outputs": [],
      "source": [
        "for step in tqdm(range(train_steps)):\n",
        "    X_ = next(real_series_iter)#real_test_1#next(real_series_iter)\n",
        "    step_e_loss_t0 = train_autoencoder_init(X_)\n",
        "    #with writer.as_default():\n",
        "     #   tf.summary.scalar('Loss Autoencoder Init', step_e_loss_t0, step=step)"
      ],
      "id": "4c94968f-7194-43e3-940a-88355aa0351c"
    },
    {
      "cell_type": "code",
      "execution_count": null,
      "metadata": {
        "colab": {
          "background_save": true
        },
        "id": "588d8672-2251-48cc-b160-f58d9258b6b9"
      },
      "outputs": [],
      "source": [
        "autoencoder.save(log_dir / 'autoencoder')"
      ],
      "id": "588d8672-2251-48cc-b160-f58d9258b6b9"
    },
    {
      "cell_type": "code",
      "execution_count": null,
      "metadata": {
        "colab": {
          "background_save": true
        },
        "collapsed": true,
        "id": "46d9bb6a-8a1d-4e87-aa03-58c403189a8b"
      },
      "outputs": [],
      "source": [
        "'''# Load weights\n",
        "model.load_weights(checkpoint_path)\n",
        "\n",
        "# Create a new model instance\n",
        "model = create_model()\n",
        "\n",
        "# Save the weights using the `checkpoint_path` format\n",
        "model.save_weights(checkpoint_path.format(epoch=0))\n",
        "\n",
        "######## ######### ######## ######### ######## #########\n",
        "\n",
        "# Save the weights\n",
        "model.save_weights('./checkpoints/my_checkpoint')\n",
        "\n",
        "# Create a new model instance\n",
        "model = create_model()\n",
        "\n",
        "# Restore the weights\n",
        "model.load_weights('./checkpoints/my_checkpoint')\n",
        "\n",
        "######## ######### ######## ######### ######## #########\n",
        "\n",
        "# Create and train a new model instance.\n",
        "model = create_model()\n",
        "model.fit(train_images, train_labels, epochs=5)\n",
        "\n",
        "# Save the entire model as a SavedModel.\n",
        "!mkdir -p saved_model\n",
        "model.save('saved_model/my_model')\n",
        "\n",
        "# my_model directory\n",
        "ls saved_model\n",
        "\n",
        "# Contains an assets folder, saved_model.pb, and variables folder.\n",
        "ls saved_model/my_model\n",
        "\n",
        "new_model = tf.keras.models.load_model('saved_model/my_model')\n",
        "\n",
        "# Check its architecture\n",
        "new_model.summary()'''"
      ],
      "id": "46d9bb6a-8a1d-4e87-aa03-58c403189a8b"
    },
    {
      "cell_type": "code",
      "execution_count": null,
      "metadata": {
        "colab": {
          "background_save": true
        },
        "id": "a9510c36-7d2d-46d8-9c99-6c744b298c44"
      },
      "outputs": [],
      "source": [
        "supervisor_optimizer = Adam()"
      ],
      "id": "a9510c36-7d2d-46d8-9c99-6c744b298c44"
    },
    {
      "cell_type": "code",
      "execution_count": null,
      "metadata": {
        "colab": {
          "background_save": true
        },
        "id": "69fa66b2-3952-443f-afef-ee32a7f06302"
      },
      "outputs": [],
      "source": [
        "@tf.function\n",
        "def train_supervisor(x):\n",
        "    with tf.GradientTape() as tape:\n",
        "        h = embedder(x)\n",
        "        h_hat_supervised = supervisor(h)\n",
        "        g_loss_s = mse(h[:, 1:, :], h_hat_supervised[:, :-1, :])\n",
        "\n",
        "    var_list = supervisor.trainable_variables\n",
        "    gradients = tape.gradient(g_loss_s, var_list)\n",
        "    supervisor_optimizer.apply_gradients(zip(gradients, var_list))\n",
        "    return g_loss_s"
      ],
      "id": "69fa66b2-3952-443f-afef-ee32a7f06302"
    },
    {
      "cell_type": "code",
      "execution_count": null,
      "metadata": {
        "colab": {
          "background_save": true
        },
        "id": "2b8736d5-4aa4-4caf-84b9-f78b24e3836f"
      },
      "outputs": [],
      "source": [
        "for step in tqdm(range(train_steps)):\n",
        "    X_ = next(real_series_iter)#real_test_1#next(real_series_iter)\n",
        "    step_g_loss_s = train_supervisor(X_)\n",
        "    with writer.as_default():\n",
        "        tf.summary.scalar('Loss Generator Supervised Init', step_g_loss_s, step=step)"
      ],
      "id": "2b8736d5-4aa4-4caf-84b9-f78b24e3836f"
    },
    {
      "cell_type": "code",
      "execution_count": null,
      "metadata": {
        "colab": {
          "background_save": true
        },
        "id": "ac3aed0e-e0eb-4cbc-af17-4041cb1ad1cb"
      },
      "outputs": [],
      "source": [
        "supervisor.save(log_dir / 'supervisor')"
      ],
      "id": "ac3aed0e-e0eb-4cbc-af17-4041cb1ad1cb"
    },
    {
      "cell_type": "code",
      "execution_count": null,
      "metadata": {
        "colab": {
          "background_save": true
        },
        "id": "b000ccd4-5751-4797-aa36-d4bec5ae405b"
      },
      "outputs": [],
      "source": [
        "E_hat = generator(Z)\n",
        "H_hat = supervisor(E_hat)\n",
        "Y_fake = discriminator(H_hat)\n",
        "\n",
        "adversarial_supervised = Model(inputs=Z,\n",
        "                               outputs=Y_fake,\n",
        "                               name='AdversarialNetSupervised')"
      ],
      "id": "b000ccd4-5751-4797-aa36-d4bec5ae405b"
    },
    {
      "cell_type": "code",
      "execution_count": null,
      "metadata": {
        "colab": {
          "background_save": true
        },
        "id": "0ca13979-ee46-47e5-8319-f728728531ab"
      },
      "outputs": [],
      "source": [
        "adversarial_supervised.summary()"
      ],
      "id": "0ca13979-ee46-47e5-8319-f728728531ab"
    },
    {
      "cell_type": "code",
      "execution_count": null,
      "metadata": {
        "colab": {
          "background_save": true
        },
        "id": "e738e1a8-2151-4897-932c-b120383970ca"
      },
      "outputs": [],
      "source": [
        "Y_fake_e = discriminator(E_hat)\n",
        "\n",
        "adversarial_emb = Model(inputs=Z,\n",
        "                    outputs=Y_fake_e,\n",
        "                    name='AdversarialNet')"
      ],
      "id": "e738e1a8-2151-4897-932c-b120383970ca"
    },
    {
      "cell_type": "code",
      "execution_count": null,
      "metadata": {
        "colab": {
          "background_save": true
        },
        "id": "69d27248-9c80-4749-a175-4b676738ceb9"
      },
      "outputs": [],
      "source": [
        "adversarial_emb.summary()"
      ],
      "id": "69d27248-9c80-4749-a175-4b676738ceb9"
    },
    {
      "cell_type": "code",
      "execution_count": null,
      "metadata": {
        "colab": {
          "background_save": true
        },
        "id": "a848919c-311e-45be-8ed3-9101a98cb98b"
      },
      "outputs": [],
      "source": [
        "X_hat = recovery(H_hat)\n",
        "synthetic_data = Model(inputs=Z,\n",
        "                       outputs=X_hat,\n",
        "                       name='SyntheticData')"
      ],
      "id": "a848919c-311e-45be-8ed3-9101a98cb98b"
    },
    {
      "cell_type": "code",
      "execution_count": null,
      "metadata": {
        "colab": {
          "background_save": true
        },
        "id": "dac5a256-4917-438f-9156-b6f6ba473c14"
      },
      "outputs": [],
      "source": [
        "synthetic_data.summary()"
      ],
      "id": "dac5a256-4917-438f-9156-b6f6ba473c14"
    },
    {
      "cell_type": "code",
      "execution_count": null,
      "metadata": {
        "colab": {
          "background_save": true
        },
        "id": "bfbbb17e-9ef8-4262-a195-5b473fccdcc0"
      },
      "outputs": [],
      "source": [
        "def get_generator_moment_loss(y_true, y_pred):\n",
        "    y_true_mean, y_true_var = tf.nn.moments(x=y_true, axes=[0])\n",
        "    y_pred_mean, y_pred_var = tf.nn.moments(x=y_pred, axes=[0])\n",
        "    g_loss_mean = tf.reduce_mean(tf.abs(y_true_mean - y_pred_mean))\n",
        "    g_loss_var = tf.reduce_mean(tf.abs(tf.sqrt(y_true_var + 1e-6) - tf.sqrt(y_pred_var + 1e-6)))\n",
        "    return g_loss_mean + g_loss_var"
      ],
      "id": "bfbbb17e-9ef8-4262-a195-5b473fccdcc0"
    },
    {
      "cell_type": "code",
      "execution_count": null,
      "metadata": {
        "colab": {
          "background_save": true
        },
        "id": "d09f52f6-2f99-4c92-b1bc-c6e3f7abaa1c"
      },
      "outputs": [],
      "source": [
        "Y_real = discriminator(H)\n",
        "discriminator_model = Model(inputs=X,\n",
        "                            outputs=Y_real,\n",
        "                            name='DiscriminatorReal')"
      ],
      "id": "d09f52f6-2f99-4c92-b1bc-c6e3f7abaa1c"
    },
    {
      "cell_type": "code",
      "execution_count": null,
      "metadata": {
        "colab": {
          "background_save": true
        },
        "id": "e0849bc8-ad3f-465d-ae0e-ea16a564c17a"
      },
      "outputs": [],
      "source": [
        "discriminator_model.summary()"
      ],
      "id": "e0849bc8-ad3f-465d-ae0e-ea16a564c17a"
    },
    {
      "cell_type": "code",
      "execution_count": null,
      "metadata": {
        "colab": {
          "background_save": true
        },
        "id": "d10ff1ab-e13b-4147-b925-cd8d76b0a2d7"
      },
      "outputs": [],
      "source": [
        "generator_optimizer = Adam()\n",
        "discriminator_optimizer = Adam()\n",
        "embedding_optimizer = Adam()"
      ],
      "id": "d10ff1ab-e13b-4147-b925-cd8d76b0a2d7"
    },
    {
      "cell_type": "code",
      "execution_count": null,
      "metadata": {
        "colab": {
          "background_save": true
        },
        "id": "48835853-8dfd-4623-a112-1a464be22bcd"
      },
      "outputs": [],
      "source": [
        "@tf.function\n",
        "def train_generator(x, z):\n",
        "    with tf.GradientTape() as tape:\n",
        "        y_fake = adversarial_supervised(z)\n",
        "        generator_loss_unsupervised = bce(y_true=tf.ones_like(y_fake),\n",
        "                                          y_pred=y_fake)\n",
        "\n",
        "        y_fake_e = adversarial_emb(z)\n",
        "        generator_loss_unsupervised_e = bce(y_true=tf.ones_like(y_fake_e),\n",
        "                                            y_pred=y_fake_e)\n",
        "        h = embedder(x)\n",
        "        h_hat_supervised = supervisor(h)\n",
        "        generator_loss_supervised = mse(h[:, 1:, :], h_hat_supervised[:, 1:, :])\n",
        "\n",
        "        x_hat = synthetic_data(z)\n",
        "        generator_moment_loss = get_generator_moment_loss(x, x_hat)\n",
        "\n",
        "        generator_loss = (generator_loss_unsupervised +\n",
        "                          generator_loss_unsupervised_e +\n",
        "                          100 * tf.sqrt(generator_loss_supervised) +\n",
        "                          100 * generator_moment_loss)\n",
        "\n",
        "    var_list = generator.trainable_variables + supervisor.trainable_variables\n",
        "    gradients = tape.gradient(generator_loss, var_list)\n",
        "    generator_optimizer.apply_gradients(zip(gradients, var_list))\n",
        "    return generator_loss_unsupervised, generator_loss_supervised, generator_moment_loss\n"
      ],
      "id": "48835853-8dfd-4623-a112-1a464be22bcd"
    },
    {
      "cell_type": "code",
      "execution_count": null,
      "metadata": {
        "colab": {
          "background_save": true
        },
        "id": "d3974f27-cb7b-4f95-bec1-74dc4adadc67"
      },
      "outputs": [],
      "source": [
        "@tf.function\n",
        "def train_embedder(x):\n",
        "    with tf.GradientTape() as tape:\n",
        "        h = embedder(x)\n",
        "        h_hat_supervised = supervisor(h)\n",
        "        generator_loss_supervised = mse(h[:, 1:, :], h_hat_supervised[:, 1:, :])\n",
        "\n",
        "        x_tilde = autoencoder(x)\n",
        "        embedding_loss_t0 = mse(x, x_tilde)\n",
        "        e_loss = 10 * tf.sqrt(embedding_loss_t0) + 0.1 * generator_loss_supervised\n",
        "\n",
        "    var_list = embedder.trainable_variables + recovery.trainable_variables\n",
        "    gradients = tape.gradient(e_loss, var_list)\n",
        "    embedding_optimizer.apply_gradients(zip(gradients, var_list))\n",
        "    return tf.sqrt(embedding_loss_t0)"
      ],
      "id": "d3974f27-cb7b-4f95-bec1-74dc4adadc67"
    },
    {
      "cell_type": "code",
      "execution_count": null,
      "metadata": {
        "colab": {
          "background_save": true
        },
        "id": "539e3fd2-8e36-4216-ab0e-34541d2d81a1"
      },
      "outputs": [],
      "source": [
        "@tf.function\n",
        "def get_discriminator_loss(x, z):\n",
        "    y_real = discriminator_model(x)\n",
        "    discriminator_loss_real = bce(y_true=tf.ones_like(y_real),\n",
        "                                  y_pred=y_real)\n",
        "\n",
        "    y_fake = adversarial_supervised(z)\n",
        "    discriminator_loss_fake = bce(y_true=tf.zeros_like(y_fake),\n",
        "                                  y_pred=y_fake)\n",
        "\n",
        "    y_fake_e = adversarial_emb(z)\n",
        "    discriminator_loss_fake_e = bce(y_true=tf.zeros_like(y_fake_e),\n",
        "                                    y_pred=y_fake_e)\n",
        "    return (discriminator_loss_real +\n",
        "            discriminator_loss_fake +\n",
        "            gamma * discriminator_loss_fake_e)"
      ],
      "id": "539e3fd2-8e36-4216-ab0e-34541d2d81a1"
    },
    {
      "cell_type": "code",
      "execution_count": null,
      "metadata": {
        "colab": {
          "background_save": true
        },
        "id": "af54a158-ce21-417b-a7cd-b5ff0655d400"
      },
      "outputs": [],
      "source": [
        "@tf.function\n",
        "def train_discriminator(x, z):\n",
        "    with tf.GradientTape() as tape:\n",
        "        discriminator_loss = get_discriminator_loss(x, z)\n",
        "\n",
        "    var_list = discriminator.trainable_variables\n",
        "    gradients = tape.gradient(discriminator_loss, var_list)\n",
        "    discriminator_optimizer.apply_gradients(zip(gradients, var_list))\n",
        "    return discriminator_loss"
      ],
      "id": "af54a158-ce21-417b-a7cd-b5ff0655d400"
    },
    {
      "cell_type": "code",
      "execution_count": null,
      "metadata": {
        "colab": {
          "background_save": true
        },
        "id": "tpbVN2AJqmam"
      },
      "outputs": [],
      "source": [
        "next(random_series).shape"
      ],
      "id": "tpbVN2AJqmam"
    },
    {
      "cell_type": "code",
      "execution_count": null,
      "metadata": {
        "colab": {
          "background_save": true
        },
        "collapsed": true,
        "id": "89484c3a-f97e-409a-bd42-6a9a0e5e28f7",
        "outputId": "684071ab-87c7-4b6a-c3cb-0a94fb24430b"
      },
      "outputs": [
        {
          "name": "stdout",
          "output_type": "stream",
          "text": [
            "     0 | d_loss: 2.0569 | g_loss_u: 0.7401 | g_loss_s: 0.0004 | g_loss_v: 0.2473 | e_loss_t0: 0.0819\n",
            "    10 | d_loss: 1.9444 | g_loss_u: 0.9059 | g_loss_s: 0.0017 | g_loss_v: 0.1513 | e_loss_t0: 0.0782\n",
            "    20 | d_loss: 1.9052 | g_loss_u: 1.0809 | g_loss_s: 0.0007 | g_loss_v: 0.1491 | e_loss_t0: 0.0790\n",
            "    30 | d_loss: 1.9020 | g_loss_u: 1.1693 | g_loss_s: 0.0004 | g_loss_v: 0.1481 | e_loss_t0: 0.0787\n",
            "    40 | d_loss: 1.8945 | g_loss_u: 1.1321 | g_loss_s: 0.0003 | g_loss_v: 0.1475 | e_loss_t0: 0.0788\n",
            "    50 | d_loss: 1.8883 | g_loss_u: 1.0792 | g_loss_s: 0.0003 | g_loss_v: 0.1475 | e_loss_t0: 0.0788\n",
            "    60 | d_loss: 1.8809 | g_loss_u: 1.0651 | g_loss_s: 0.0003 | g_loss_v: 0.1475 | e_loss_t0: 0.0788\n",
            "    70 | d_loss: 1.8700 | g_loss_u: 1.0706 | g_loss_s: 0.0003 | g_loss_v: 0.1471 | e_loss_t0: 0.0784\n",
            "    80 | d_loss: 1.8572 | g_loss_u: 1.0603 | g_loss_s: 0.0002 | g_loss_v: 0.1451 | e_loss_t0: 0.0781\n",
            "    90 | d_loss: 1.8404 | g_loss_u: 1.0308 | g_loss_s: 0.0002 | g_loss_v: 0.1453 | e_loss_t0: 0.0786\n",
            "   100 | d_loss: 1.8166 | g_loss_u: 1.0083 | g_loss_s: 0.0002 | g_loss_v: 0.1476 | e_loss_t0: 0.0782\n",
            "   110 | d_loss: 1.7839 | g_loss_u: 0.9646 | g_loss_s: 0.0002 | g_loss_v: 0.1467 | e_loss_t0: 0.0779\n",
            "   120 | d_loss: 1.7375 | g_loss_u: 0.9118 | g_loss_s: 0.0002 | g_loss_v: 0.1462 | e_loss_t0: 0.0781\n",
            "   130 | d_loss: 1.7032 | g_loss_u: 0.8390 | g_loss_s: 0.0002 | g_loss_v: 0.1596 | e_loss_t0: 0.0779\n",
            "   140 | d_loss: 1.6631 | g_loss_u: 0.7700 | g_loss_s: 0.0002 | g_loss_v: 0.1469 | e_loss_t0: 0.0785\n",
            "   150 | d_loss: 1.6313 | g_loss_u: 0.7333 | g_loss_s: 0.0002 | g_loss_v: 0.1443 | e_loss_t0: 0.0777\n",
            "   160 | d_loss: 1.6136 | g_loss_u: 0.7384 | g_loss_s: 0.0002 | g_loss_v: 0.1478 | e_loss_t0: 0.0781\n",
            "   170 | d_loss: 1.6760 | g_loss_u: 0.7340 | g_loss_s: 0.0002 | g_loss_v: 0.1471 | e_loss_t0: 0.0779\n",
            "   180 | d_loss: 2.2451 | g_loss_u: 0.8490 | g_loss_s: 0.0002 | g_loss_v: 0.1512 | e_loss_t0: 0.0779\n",
            "   190 | d_loss: 2.2610 | g_loss_u: 0.9028 | g_loss_s: 0.0002 | g_loss_v: 0.1468 | e_loss_t0: 0.0771\n",
            "   200 | d_loss: 2.0754 | g_loss_u: 1.0609 | g_loss_s: 0.0001 | g_loss_v: 0.1464 | e_loss_t0: 0.0769\n",
            "   210 | d_loss: 1.9944 | g_loss_u: 1.0952 | g_loss_s: 0.0001 | g_loss_v: 0.1464 | e_loss_t0: 0.0777\n",
            "   220 | d_loss: 1.9574 | g_loss_u: 1.1022 | g_loss_s: 0.0001 | g_loss_v: 0.1451 | e_loss_t0: 0.0770\n",
            "   230 | d_loss: 1.9406 | g_loss_u: 1.1038 | g_loss_s: 0.0001 | g_loss_v: 0.1500 | e_loss_t0: 0.0772\n",
            "   240 | d_loss: 1.9279 | g_loss_u: 1.1026 | g_loss_s: 0.0001 | g_loss_v: 0.1477 | e_loss_t0: 0.0767\n",
            "   250 | d_loss: 1.9224 | g_loss_u: 1.1018 | g_loss_s: 0.0001 | g_loss_v: 0.1461 | e_loss_t0: 0.0767\n",
            "   260 | d_loss: 1.9136 | g_loss_u: 1.1075 | g_loss_s: 0.0001 | g_loss_v: 0.1469 | e_loss_t0: 0.0768\n",
            "   270 | d_loss: 1.9104 | g_loss_u: 1.1024 | g_loss_s: 0.0001 | g_loss_v: 0.1471 | e_loss_t0: 0.0765\n",
            "   280 | d_loss: 1.9018 | g_loss_u: 1.1082 | g_loss_s: 0.0001 | g_loss_v: 0.1464 | e_loss_t0: 0.0764\n",
            "   290 | d_loss: 1.8978 | g_loss_u: 1.1113 | g_loss_s: 0.0001 | g_loss_v: 0.1469 | e_loss_t0: 0.0761\n",
            "   300 | d_loss: 1.8992 | g_loss_u: 1.1072 | g_loss_s: 0.0001 | g_loss_v: 0.1475 | e_loss_t0: 0.0763\n",
            "   310 | d_loss: 1.8900 | g_loss_u: 1.1182 | g_loss_s: 0.0001 | g_loss_v: 0.1464 | e_loss_t0: 0.0763\n",
            "   320 | d_loss: 1.8920 | g_loss_u: 1.1109 | g_loss_s: 0.0001 | g_loss_v: 0.1509 | e_loss_t0: 0.0769\n",
            "   330 | d_loss: 1.8878 | g_loss_u: 1.1050 | g_loss_s: 0.0001 | g_loss_v: 0.1482 | e_loss_t0: 0.0757\n",
            "   340 | d_loss: 1.8826 | g_loss_u: 1.1204 | g_loss_s: 0.0001 | g_loss_v: 0.1474 | e_loss_t0: 0.0765\n",
            "   350 | d_loss: 1.8775 | g_loss_u: 1.1181 | g_loss_s: 0.0001 | g_loss_v: 0.1482 | e_loss_t0: 0.0768\n",
            "   360 | d_loss: 1.8809 | g_loss_u: 1.1168 | g_loss_s: 0.0001 | g_loss_v: 0.1622 | e_loss_t0: 0.0782\n",
            "   370 | d_loss: 1.8710 | g_loss_u: 1.1203 | g_loss_s: 0.0001 | g_loss_v: 0.1474 | e_loss_t0: 0.0762\n",
            "   380 | d_loss: 1.8756 | g_loss_u: 1.1324 | g_loss_s: 0.0001 | g_loss_v: 0.1466 | e_loss_t0: 0.0762\n",
            "   390 | d_loss: 1.8725 | g_loss_u: 1.1207 | g_loss_s: 0.0001 | g_loss_v: 0.1479 | e_loss_t0: 0.0765\n",
            "   400 | d_loss: 1.8651 | g_loss_u: 1.1267 | g_loss_s: 0.0001 | g_loss_v: 0.1497 | e_loss_t0: 0.0761\n",
            "   410 | d_loss: 1.8736 | g_loss_u: 1.1261 | g_loss_s: 0.0001 | g_loss_v: 0.1500 | e_loss_t0: 0.0762\n",
            "   420 | d_loss: 1.8551 | g_loss_u: 1.1381 | g_loss_s: 0.0001 | g_loss_v: 0.1489 | e_loss_t0: 0.0758\n",
            "   430 | d_loss: 1.8638 | g_loss_u: 1.1206 | g_loss_s: 0.0001 | g_loss_v: 0.1495 | e_loss_t0: 0.0760\n",
            "   440 | d_loss: 1.8571 | g_loss_u: 1.1240 | g_loss_s: 0.0001 | g_loss_v: 0.1491 | e_loss_t0: 0.0766\n",
            "   450 | d_loss: 1.8566 | g_loss_u: 1.1077 | g_loss_s: 0.0001 | g_loss_v: 0.1493 | e_loss_t0: 0.0758\n",
            "   460 | d_loss: 1.8530 | g_loss_u: 1.0988 | g_loss_s: 0.0001 | g_loss_v: 0.1492 | e_loss_t0: 0.0767\n",
            "   470 | d_loss: 1.8473 | g_loss_u: 1.0746 | g_loss_s: 0.0001 | g_loss_v: 0.1476 | e_loss_t0: 0.0760\n",
            "   480 | d_loss: 1.8422 | g_loss_u: 1.0506 | g_loss_s: 0.0001 | g_loss_v: 0.1482 | e_loss_t0: 0.0758\n",
            "   490 | d_loss: 1.8450 | g_loss_u: 1.0257 | g_loss_s: 0.0001 | g_loss_v: 0.1469 | e_loss_t0: 0.0757\n",
            "   500 | d_loss: 1.8731 | g_loss_u: 1.0012 | g_loss_s: 0.0001 | g_loss_v: 0.1480 | e_loss_t0: 0.0754\n",
            "   510 | d_loss: 1.9072 | g_loss_u: 0.9986 | g_loss_s: 0.0001 | g_loss_v: 0.1464 | e_loss_t0: 0.0750\n",
            "   520 | d_loss: 1.9785 | g_loss_u: 1.0252 | g_loss_s: 0.0001 | g_loss_v: 0.1485 | e_loss_t0: 0.0752\n",
            "   530 | d_loss: 2.0057 | g_loss_u: 1.0644 | g_loss_s: 0.0001 | g_loss_v: 0.1481 | e_loss_t0: 0.0761\n",
            "   540 | d_loss: 2.0123 | g_loss_u: 1.0899 | g_loss_s: 0.0001 | g_loss_v: 0.1482 | e_loss_t0: 0.0754\n",
            "   550 | d_loss: 1.9865 | g_loss_u: 1.0804 | g_loss_s: 0.0001 | g_loss_v: 0.1496 | e_loss_t0: 0.0759\n",
            "   560 | d_loss: 1.9122 | g_loss_u: 1.1145 | g_loss_s: 0.0001 | g_loss_v: 0.1504 | e_loss_t0: 0.0758\n",
            "   570 | d_loss: 1.8513 | g_loss_u: 1.1428 | g_loss_s: 0.0001 | g_loss_v: 0.1482 | e_loss_t0: 0.0759\n",
            "   580 | d_loss: 1.7143 | g_loss_u: 1.1861 | g_loss_s: 0.0001 | g_loss_v: 0.1475 | e_loss_t0: 0.0756\n",
            "   590 | d_loss: 1.3590 | g_loss_u: 1.3331 | g_loss_s: 0.0001 | g_loss_v: 0.1559 | e_loss_t0: 0.0753\n",
            "   600 | d_loss: 0.9069 | g_loss_u: 1.6625 | g_loss_s: 0.0001 | g_loss_v: 0.1508 | e_loss_t0: 0.0756\n",
            "   610 | d_loss: 0.6369 | g_loss_u: 2.3569 | g_loss_s: 0.0001 | g_loss_v: 0.1527 | e_loss_t0: 0.0748\n",
            "   620 | d_loss: 0.4327 | g_loss_u: 3.6738 | g_loss_s: 0.0001 | g_loss_v: 0.1512 | e_loss_t0: 0.0754\n",
            "   630 | d_loss: 0.7952 | g_loss_u: 4.0521 | g_loss_s: 0.0005 | g_loss_v: 0.1693 | e_loss_t0: 0.0753\n",
            "   640 | d_loss: 1.4448 | g_loss_u: 4.1450 | g_loss_s: 0.0006 | g_loss_v: 0.1503 | e_loss_t0: 0.0757\n",
            "   650 | d_loss: 0.7179 | g_loss_u: 3.2203 | g_loss_s: 0.0002 | g_loss_v: 0.1509 | e_loss_t0: 0.0753\n",
            "   660 | d_loss: 0.6027 | g_loss_u: 1.8363 | g_loss_s: 0.0001 | g_loss_v: 0.1496 | e_loss_t0: 0.0752\n",
            "   670 | d_loss: 0.5205 | g_loss_u: 3.0845 | g_loss_s: 0.0001 | g_loss_v: 0.1497 | e_loss_t0: 0.0753\n",
            "   680 | d_loss: 0.4277 | g_loss_u: 3.5852 | g_loss_s: 0.0001 | g_loss_v: 0.1496 | e_loss_t0: 0.0752\n",
            "   690 | d_loss: 0.3806 | g_loss_u: 3.6374 | g_loss_s: 0.0001 | g_loss_v: 0.1515 | e_loss_t0: 0.0752\n",
            "   700 | d_loss: 0.3551 | g_loss_u: 3.6238 | g_loss_s: 0.0001 | g_loss_v: 0.1513 | e_loss_t0: 0.0754\n",
            "   710 | d_loss: 0.3454 | g_loss_u: 3.7946 | g_loss_s: 0.0001 | g_loss_v: 0.1511 | e_loss_t0: 0.0749\n",
            "   720 | d_loss: 0.3405 | g_loss_u: 3.8714 | g_loss_s: 0.0001 | g_loss_v: 0.1513 | e_loss_t0: 0.0746\n",
            "   730 | d_loss: 0.3287 | g_loss_u: 3.9440 | g_loss_s: 0.0001 | g_loss_v: 0.1526 | e_loss_t0: 0.0752\n",
            "   740 | d_loss: 0.3256 | g_loss_u: 3.9530 | g_loss_s: 0.0001 | g_loss_v: 0.1504 | e_loss_t0: 0.0747\n",
            "   750 | d_loss: 0.3047 | g_loss_u: 3.9711 | g_loss_s: 0.0001 | g_loss_v: 0.1506 | e_loss_t0: 0.0747\n",
            "   760 | d_loss: 0.2800 | g_loss_u: 4.0389 | g_loss_s: 0.0001 | g_loss_v: 0.1524 | e_loss_t0: 0.0751\n",
            "   770 | d_loss: 0.2659 | g_loss_u: 4.1484 | g_loss_s: 0.0001 | g_loss_v: 0.1500 | e_loss_t0: 0.0742\n",
            "   780 | d_loss: 0.2584 | g_loss_u: 4.3155 | g_loss_s: 0.0001 | g_loss_v: 0.1513 | e_loss_t0: 0.0749\n",
            "   790 | d_loss: 0.2523 | g_loss_u: 4.3285 | g_loss_s: 0.0001 | g_loss_v: 0.1515 | e_loss_t0: 0.0747\n",
            "   800 | d_loss: 0.2268 | g_loss_u: 4.3667 | g_loss_s: 0.0001 | g_loss_v: 0.1511 | e_loss_t0: 0.0743\n",
            "   810 | d_loss: 0.2248 | g_loss_u: 4.4432 | g_loss_s: 0.0001 | g_loss_v: 0.1538 | e_loss_t0: 0.0746\n",
            "   820 | d_loss: 0.2097 | g_loss_u: 4.4062 | g_loss_s: 0.0001 | g_loss_v: 0.1589 | e_loss_t0: 0.0742\n",
            "   830 | d_loss: 0.1864 | g_loss_u: 4.4411 | g_loss_s: 0.0001 | g_loss_v: 0.1524 | e_loss_t0: 0.0743\n",
            "   840 | d_loss: 0.1709 | g_loss_u: 4.4646 | g_loss_s: 0.0001 | g_loss_v: 0.1547 | e_loss_t0: 0.0745\n",
            "   850 | d_loss: 0.1527 | g_loss_u: 4.2979 | g_loss_s: 0.0001 | g_loss_v: 0.1527 | e_loss_t0: 0.0742\n",
            "   860 | d_loss: 0.1418 | g_loss_u: 4.4242 | g_loss_s: 0.0001 | g_loss_v: 0.1536 | e_loss_t0: 0.0746\n",
            "   870 | d_loss: 0.1446 | g_loss_u: 4.3661 | g_loss_s: 0.0001 | g_loss_v: 0.1535 | e_loss_t0: 0.0747\n",
            "   880 | d_loss: 0.1447 | g_loss_u: 4.2538 | g_loss_s: 0.0001 | g_loss_v: 0.1515 | e_loss_t0: 0.0741\n",
            "   890 | d_loss: 0.1496 | g_loss_u: 4.2591 | g_loss_s: 0.0001 | g_loss_v: 0.1535 | e_loss_t0: 0.0740\n",
            "   900 | d_loss: 0.1309 | g_loss_u: 4.3600 | g_loss_s: 0.0001 | g_loss_v: 0.1514 | e_loss_t0: 0.0740\n",
            "   910 | d_loss: 0.1372 | g_loss_u: 4.3052 | g_loss_s: 0.0001 | g_loss_v: 0.1525 | e_loss_t0: 0.0738\n",
            "   920 | d_loss: 0.1390 | g_loss_u: 4.1327 | g_loss_s: 0.0001 | g_loss_v: 0.1541 | e_loss_t0: 0.0743\n",
            "   930 | d_loss: 0.1420 | g_loss_u: 4.1532 | g_loss_s: 0.0001 | g_loss_v: 0.1518 | e_loss_t0: 0.0732\n",
            "   940 | d_loss: 0.1417 | g_loss_u: 4.2969 | g_loss_s: 0.0001 | g_loss_v: 0.1543 | e_loss_t0: 0.0739\n",
            "   950 | d_loss: 0.1426 | g_loss_u: 4.2974 | g_loss_s: 0.0001 | g_loss_v: 0.1524 | e_loss_t0: 0.0736\n",
            "   960 | d_loss: 0.1448 | g_loss_u: 4.2217 | g_loss_s: 0.0001 | g_loss_v: 0.1535 | e_loss_t0: 0.0735\n"
          ]
        }
      ],
      "source": [
        "step_g_loss_u = step_g_loss_s = step_g_loss_v = step_e_loss_t0 = step_d_loss = 0\n",
        "for step in range(train_steps):\n",
        "    # Train generator (twice as often as discriminator)\n",
        "    for kk in range(2):\n",
        "        X_ = next(real_series_iter)#real_test_1#next(real_series_iter)\n",
        "        Z_ = next(random_series)#noise#next(random_series)\n",
        "\n",
        "        # Train generator\n",
        "        step_g_loss_u, step_g_loss_s, step_g_loss_v = train_generator(X_, Z_)\n",
        "        # Train embedder\n",
        "        step_e_loss_t0 = train_embedder(X_)\n",
        "\n",
        "    X_ = next(real_series_iter)#real_test_1#next(real_series_iter)\n",
        "    Z_ = next(random_series)#noise#next(random_series)\n",
        "    step_d_loss = get_discriminator_loss(X_, Z_)\n",
        "    if step_d_loss > 0.15:\n",
        "        step_d_loss = train_discriminator(X_, Z_)\n",
        "\n",
        "    if step % 10 == 0:\n",
        "    #if step%2 == 0:\n",
        "        print(f'{step:6,.0f} | d_loss: {step_d_loss:6.4f} | g_loss_u: {step_g_loss_u:6.4f} | '\n",
        "              f'g_loss_s: {step_g_loss_s:6.4f} | g_loss_v: {step_g_loss_v:6.4f} | e_loss_t0: {step_e_loss_t0:6.4f}')\n",
        "\n",
        "    with writer.as_default():\n",
        "        tf.summary.scalar('G Loss S', step_g_loss_s, step=step)\n",
        "        tf.summary.scalar('G Loss U', step_g_loss_u, step=step)\n",
        "        tf.summary.scalar('G Loss V', step_g_loss_v, step=step)\n",
        "        tf.summary.scalar('E Loss T0', step_e_loss_t0, step=step)\n",
        "        tf.summary.scalar('D Loss', step_d_loss, step=step)"
      ],
      "id": "89484c3a-f97e-409a-bd42-6a9a0e5e28f7"
    },
    {
      "cell_type": "code",
      "execution_count": null,
      "metadata": {
        "colab": {
          "background_save": true
        },
        "id": "a92b344f-1be3-45d7-a462-81992e690dc0"
      },
      "outputs": [],
      "source": [
        "synthetic_data.save(log_dir / 'synthetic_data')"
      ],
      "id": "a92b344f-1be3-45d7-a462-81992e690dc0"
    },
    {
      "cell_type": "code",
      "execution_count": null,
      "metadata": {
        "colab": {
          "background_save": true
        },
        "id": "b1318cae-0dfe-4910-9ba2-e220bd9697d8"
      },
      "outputs": [],
      "source": [
        "generated_data = []\n",
        "for i in range(int(n_windows / batch_size)):\n",
        "    Z_ = next(random_series)\n",
        "    d = synthetic_data(Z_)\n",
        "    generated_data.append(d)"
      ],
      "id": "b1318cae-0dfe-4910-9ba2-e220bd9697d8"
    },
    {
      "cell_type": "code",
      "execution_count": null,
      "metadata": {
        "colab": {
          "background_save": true
        },
        "id": "f80ed5f7-3dc9-4e95-937f-3fb12ab9ee33"
      },
      "outputs": [],
      "source": [
        "generated_data = np.array(np.vstack(generated_data))\n",
        "generated_data.shape"
      ],
      "id": "f80ed5f7-3dc9-4e95-937f-3fb12ab9ee33"
    },
    {
      "cell_type": "code",
      "execution_count": null,
      "metadata": {
        "colab": {
          "background_save": true
        },
        "id": "0de4ae84-54a7-4a5e-93c8-49fea3bc6654"
      },
      "outputs": [],
      "source": [
        "np.save(log_dir / 'generated_data.npy', generated_data)"
      ],
      "id": "0de4ae84-54a7-4a5e-93c8-49fea3bc6654"
    },
    {
      "cell_type": "code",
      "execution_count": null,
      "metadata": {
        "colab": {
          "background_save": true
        },
        "id": "5da35ae1-eb2c-4a46-9475-e0f516cfe167"
      },
      "outputs": [],
      "source": [
        "generated_data = (scaler.inverse_transform(generated_data.reshape(-1, n_seq)).reshape(-1, seq_len, n_seq))\n",
        "generated_data.shape"
      ],
      "id": "5da35ae1-eb2c-4a46-9475-e0f516cfe167"
    },
    {
      "cell_type": "code",
      "execution_count": null,
      "metadata": {
        "colab": {
          "background_save": true
        },
        "id": "80e119c5-e344-4c9e-bdfd-2670de581507"
      },
      "outputs": [],
      "source": [
        "with pd.HDFStore(hdf_store) as store:\n",
        "    store.put('data/synthetic', pd.DataFrame(generated_data.reshape(-1, n_seq),\n",
        "                                             columns=tickers))"
      ],
      "id": "80e119c5-e344-4c9e-bdfd-2670de581507"
    },
    {
      "cell_type": "code",
      "execution_count": null,
      "metadata": {
        "colab": {
          "background_save": true
        },
        "id": "9c67a00d-6c3f-4948-b4b0-69c8a6ddae1e"
      },
      "outputs": [],
      "source": [
        "fig, axes = plt.subplots(nrows=3, ncols=2, figsize=(14, 7))\n",
        "axes = axes.flatten()\n",
        "\n",
        "index = list(range(1, 25))\n",
        "synthetic = generated_data[np.random.randint(n_windows)]\n",
        "\n",
        "idx = np.random.randint(len(train) - seq_len)\n",
        "real = train.iloc[idx: idx + seq_len]\n",
        "\n",
        "for j, ticker in enumerate(tickers):\n",
        "    (pd.DataFrame({'Real': real.iloc[:, j].values,\n",
        "                   'Synthetic': synthetic[:, j]})\n",
        "     .plot(ax=axes[j],\n",
        "           title=ticker,\n",
        "           secondary_y='Synthetic', style=['-', '--'],\n",
        "           lw=1))\n",
        "sns.despine()\n",
        "fig.tight_layout()"
      ],
      "id": "9c67a00d-6c3f-4948-b4b0-69c8a6ddae1e"
    },
    {
      "cell_type": "code",
      "execution_count": null,
      "metadata": {
        "colab": {
          "background_save": true
        },
        "id": "fd8fe1fc-51c0-4ecb-b610-24545f90a0b2"
      },
      "outputs": [],
      "source": [
        "def AndersonDarling(data,predictions):\n",
        "    N,P = data.shape\n",
        "    ADdistance = 0\n",
        "    for station in range(P) :\n",
        "        temp_predictions = predictions[:,station].reshape(-1)\n",
        "        temp_data = data[:,station].reshape(-1)\n",
        "        sorted_array = np.sort(temp_predictions)\n",
        "        count = np.zeros(len(temp_data))\n",
        "        count = (1/(N+2)) * np.array([(temp_data < order).sum()+1 for order in sorted_array])\n",
        "        idx = np.arange(1, N+1)\n",
        "        ADdistance = (2*idx - 1) * (np.log(count) + np.log(1-count[::-1]))\n",
        "        ADdistance = - N - np.sum(ADdistance)/N\n",
        "    return ADdistance/P"
      ],
      "id": "fd8fe1fc-51c0-4ecb-b610-24545f90a0b2"
    },
    {
      "cell_type": "code",
      "execution_count": null,
      "metadata": {
        "colab": {
          "background_save": true
        },
        "id": "66ee0547-8ecf-4cfd-988f-815c0789330d"
      },
      "outputs": [],
      "source": [
        "AndersonDarling(np.array(test[:10]), generated_data[np.random.randint(n_windows)])"
      ],
      "id": "66ee0547-8ecf-4cfd-988f-815c0789330d"
    },
    {
      "cell_type": "code",
      "execution_count": null,
      "metadata": {
        "colab": {
          "background_save": true
        },
        "id": "e93329f2-bb8d-4cf4-931b-ed617e1cbeea"
      },
      "outputs": [],
      "source": [],
      "id": "e93329f2-bb8d-4cf4-931b-ed617e1cbeea"
    },
    {
      "cell_type": "code",
      "execution_count": null,
      "metadata": {
        "colab": {
          "background_save": true
        },
        "id": "5e34f801-b1ab-4a48-aa2e-22781c70474e"
      },
      "outputs": [],
      "source": [],
      "id": "5e34f801-b1ab-4a48-aa2e-22781c70474e"
    },
    {
      "cell_type": "code",
      "execution_count": null,
      "metadata": {
        "colab": {
          "background_save": true
        },
        "id": "cb309bbc-23e5-45f9-a21a-a8d3f5e16ec1"
      },
      "outputs": [],
      "source": [
        "AndersonDarling(np.array(test[:10]), generated_data[np.random.randint(n_windows)])"
      ],
      "id": "cb309bbc-23e5-45f9-a21a-a8d3f5e16ec1"
    },
    {
      "cell_type": "code",
      "execution_count": null,
      "metadata": {
        "colab": {
          "background_save": true
        },
        "id": "3eab796d-1206-4a8a-9d79-4adeb65bfed8"
      },
      "outputs": [],
      "source": [
        "generated_data[1]"
      ],
      "id": "3eab796d-1206-4a8a-9d79-4adeb65bfed8"
    },
    {
      "cell_type": "code",
      "execution_count": null,
      "metadata": {
        "colab": {
          "background_save": true
        },
        "id": "738ef50c-45fc-4098-91d0-5ff2617e7eeb"
      },
      "outputs": [],
      "source": [
        "# Load weights\n",
        "model.load_weights(checkpoint_path)\n",
        "\n",
        "# Create a new model instance\n",
        "model = create_model()\n",
        "\n",
        "# Save the weights using the `checkpoint_path` format\n",
        "model.save_weights(checkpoint_path.format(epoch=0))\n",
        "\n",
        "######## ######### ######## ######### ######## #########\n",
        "\n",
        "# Save the weights\n",
        "model.save_weights('./checkpoints/my_checkpoint')\n",
        "\n",
        "# Create a new model instance\n",
        "model = create_model()\n",
        "\n",
        "# Restore the weights\n",
        "model.load_weights('./checkpoints/my_checkpoint')\n",
        "\n",
        "######## ######### ######## ######### ######## #########\n",
        "\n",
        "# Create and train a new model instance.\n",
        "model = create_model()\n",
        "model.fit(train_images, train_labels, epochs=5)\n",
        "\n",
        "# Save the entire model as a SavedModel.\n",
        "!mkdir -p saved_model\n",
        "model.save('saved_model/my_model')\n",
        "\n",
        "# my_model directory\n",
        "ls saved_model\n",
        "\n",
        "# Contains an assets folder, saved_model.pb, and variables folder.\n",
        "ls saved_model/my_model\n",
        "\n",
        "new_model = tf.keras.models.load_model('saved_model/my_model')\n",
        "\n",
        "# Check its architecture\n",
        "new_model.summary()"
      ],
      "id": "738ef50c-45fc-4098-91d0-5ff2617e7eeb"
    },
    {
      "cell_type": "code",
      "execution_count": null,
      "metadata": {
        "colab": {
          "background_save": true
        },
        "id": "e64d2a97-6ad4-4744-b7d9-c10076561d07"
      },
      "outputs": [],
      "source": [
        "!mkdir -p saved_model\n",
        "synthetic_data.save('saved_model/my_model')"
      ],
      "id": "e64d2a97-6ad4-4744-b7d9-c10076561d07"
    },
    {
      "cell_type": "code",
      "execution_count": null,
      "metadata": {
        "colab": {
          "background_save": true
        },
        "id": "6c7d4947-6a5b-49dc-a64e-2cdde31bb1c7"
      },
      "outputs": [],
      "source": [
        "new_model = tf.keras.models.load_model('saved_model/my_model')"
      ],
      "id": "6c7d4947-6a5b-49dc-a64e-2cdde31bb1c7"
    },
    {
      "cell_type": "code",
      "execution_count": null,
      "metadata": {
        "colab": {
          "background_save": true
        },
        "id": "b7426243-58a6-44d5-87bc-e2684e7bfe09"
      },
      "outputs": [],
      "source": [
        "generated_data = []\n",
        "for i in range(int(n_windows / batch_size)):\n",
        "    Z_ = next(random_series)\n",
        "    d = new_model(Z_)\n",
        "    generated_data.append(d)"
      ],
      "id": "b7426243-58a6-44d5-87bc-e2684e7bfe09"
    },
    {
      "cell_type": "code",
      "execution_count": null,
      "metadata": {
        "colab": {
          "background_save": true
        },
        "id": "1d02b9d5-f7ba-4959-a027-4b5eb31d5eb2"
      },
      "outputs": [],
      "source": [
        "generated_data = np.array(np.vstack(generated_data))\n",
        "generated_data.shape"
      ],
      "id": "1d02b9d5-f7ba-4959-a027-4b5eb31d5eb2"
    },
    {
      "cell_type": "code",
      "execution_count": null,
      "metadata": {
        "colab": {
          "background_save": true
        },
        "id": "e2944d8d-575d-48d9-be83-6d0f13add70d"
      },
      "outputs": [],
      "source": [
        "generated_data = (scaler.inverse_transform(generated_data.reshape(-1, n_seq)).reshape(-1, seq_len, n_seq))\n",
        "generated_data.shape"
      ],
      "id": "e2944d8d-575d-48d9-be83-6d0f13add70d"
    },
    {
      "cell_type": "code",
      "execution_count": null,
      "metadata": {
        "colab": {
          "background_save": true
        },
        "id": "5b2620e3-c9d0-45ec-80e5-5426e879f536"
      },
      "outputs": [],
      "source": [
        "AndersonDarling(np.array(test[:10]), generated_data[np.random.randint(n_windows)])"
      ],
      "id": "5b2620e3-c9d0-45ec-80e5-5426e879f536"
    },
    {
      "cell_type": "code",
      "execution_count": null,
      "metadata": {
        "colab": {
          "background_save": true
        },
        "id": "3fc8d9c1-5b9a-4208-b8d9-f424086507e3"
      },
      "outputs": [],
      "source": [
        "fig, axes = plt.subplots(nrows=3, ncols=2, figsize=(14, 7))\n",
        "axes = axes.flatten()\n",
        "\n",
        "index = list(range(1, 25))\n",
        "synthetic = generated_data[np.random.randint(n_windows)]\n",
        "\n",
        "idx = np.random.randint(len(train) - seq_len)\n",
        "real = train.iloc[idx: idx + seq_len]\n",
        "\n",
        "for j, ticker in enumerate(tickers):\n",
        "    (pd.DataFrame({'Real': real.iloc[:, j].values,\n",
        "                   'Synthetic': synthetic[:, j]})\n",
        "     .plot(ax=axes[j],\n",
        "           title=ticker,\n",
        "           secondary_y='Synthetic', style=['-', '--'],\n",
        "           lw=1))\n",
        "sns.despine()\n",
        "fig.tight_layout()"
      ],
      "id": "3fc8d9c1-5b9a-4208-b8d9-f424086507e3"
    },
    {
      "cell_type": "code",
      "execution_count": null,
      "metadata": {
        "colab": {
          "background_save": true
        },
        "id": "663cbf0c-b2fb-4988-b3ef-f302cd9c9145"
      },
      "outputs": [],
      "source": [],
      "id": "663cbf0c-b2fb-4988-b3ef-f302cd9c9145"
    }
  ],
  "metadata": {
    "accelerator": "GPU",
    "colab": {
      "provenance": []
    },
    "gpuClass": "standard",
    "kernelspec": {
      "display_name": "Python 3 (ipykernel)",
      "language": "python",
      "name": "python3"
    },
    "language_info": {
      "codemirror_mode": {
        "name": "ipython",
        "version": 3
      },
      "file_extension": ".py",
      "mimetype": "text/x-python",
      "name": "python",
      "nbconvert_exporter": "python",
      "pygments_lexer": "ipython3",
      "version": "3.9.7"
    }
  },
  "nbformat": 4,
  "nbformat_minor": 5
}