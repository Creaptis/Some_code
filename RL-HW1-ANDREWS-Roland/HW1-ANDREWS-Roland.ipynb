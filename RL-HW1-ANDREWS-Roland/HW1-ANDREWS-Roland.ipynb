{
  "nbformat": 4,
  "nbformat_minor": 0,
  "metadata": {
    "colab": {
      "provenance": [],
      "collapsed_sections": []
    },
    "kernelspec": {
      "name": "python3",
      "display_name": "Python 3"
    },
    "language_info": {
      "name": "python"
    },
    "gpuClass": "standard"
  },
  "cells": [
    {
      "cell_type": "markdown",
      "metadata": {
        "id": "IAE8kMxe6E6k"
      },
      "source": [
        "# MVA - Homework 1 - Reinforcement Learning (2022/2023)\n",
        "\n",
        "**Name:** ANDREWS Roland"
      ]
    },
    {
      "cell_type": "markdown",
      "metadata": {
        "id": "vY4MH0nU637o"
      },
      "source": [
        "## Instructions\n",
        "\n",
        "* The deadline is **November 10 at 11:59 pm (Paris time).**\n",
        "\n",
        "* By doing this homework you agree to the late day policy, collaboration and misconduct rules reported on [Piazza](https://piazza.com/class/l4y5ubadwj64mb/post/6).\n",
        "\n",
        "* **Mysterious or unsupported answers will not receive full credit**. A correct answer, unsupported by calculations, explanation, or algebraic work will receive no credit; an incorrect answer supported by substantially correct calculations and explanations might still receive partial credit.\n",
        "\n",
        "* Answers should be provided in **English**."
      ]
    },
    {
      "cell_type": "markdown",
      "metadata": {
        "id": "YB__2uUC5U1r"
      },
      "source": [
        "# Colab setup"
      ]
    },
    {
      "cell_type": "code",
      "metadata": {
        "id": "2XNj1_VZ2FGJ",
        "colab": {
          "base_uri": "https://localhost:8080/",
          "height": 0
        },
        "outputId": "189218be-3a4a-432e-b5ed-828c5aaa8859"
      },
      "source": [
        "from IPython import get_ipython\n",
        "\n",
        "if 'google.colab' in str(get_ipython()):\n",
        "  # install rlberry library\n",
        "  !pip install git+https://github.com/rlberry-py/rlberry.git@mva2021#egg=rlberry[default] > /dev/null 2>&1\n",
        "\n",
        "  # install ffmpeg-python for saving videos\n",
        "  !pip install ffmpeg-python > /dev/null 2>&1\n",
        "\n",
        "  # packages required to show video\n",
        "  !pip install pyvirtualdisplay > /dev/null 2>&1\n",
        "  !apt-get install -y xvfb python-opengl ffmpeg > /dev/null 2>&1\n",
        "\n",
        "  print(\"Libraries installed, please restart the runtime!\")\n"
      ],
      "execution_count": 26,
      "outputs": [
        {
          "output_type": "stream",
          "name": "stdout",
          "text": [
            "Libraries installed, please restart the runtime!\n"
          ]
        }
      ]
    },
    {
      "cell_type": "code",
      "metadata": {
        "id": "s8F7RiPXjutB"
      },
      "source": [
        "# Create directory for saving videos\n",
        "!mkdir videos > /dev/null 2>&1\n",
        "\n",
        "# Initialize display and import function to show videos\n",
        "import rlberry.colab_utils.display_setup\n",
        "from rlberry.colab_utils.display_setup import show_video"
      ],
      "execution_count": 27,
      "outputs": []
    },
    {
      "cell_type": "code",
      "metadata": {
        "id": "KISV44N_nCNm"
      },
      "source": [
        "# Useful libraries\n",
        "import numpy as np\n",
        "import matplotlib.pyplot as plt"
      ],
      "execution_count": 28,
      "outputs": []
    },
    {
      "cell_type": "markdown",
      "metadata": {
        "id": "L4hKBRTCh6Gk"
      },
      "source": [
        "# Preparation\n",
        "\n",
        "In the coding exercises, you will use a *grid-world* MDP, which is represented in Python using the interface provided by the [Gym](https://gym.openai.com/) library. The cells below show how to interact with this MDP and how to visualize it.\n"
      ]
    },
    {
      "cell_type": "code",
      "metadata": {
        "id": "514mHDeQooKa"
      },
      "source": [
        "from rlberry.envs import GridWorld\n",
        "\n",
        "def get_env():\n",
        "  \"\"\"Creates an instance of a grid-world MDP.\"\"\"\n",
        "  env = GridWorld(\n",
        "      nrows=5,\n",
        "      ncols=7,\n",
        "      reward_at = {(0, 6):1.0},\n",
        "      walls=((0, 4), (1, 4), (2, 4), (3, 4)),\n",
        "      success_probability=0.9,\n",
        "      terminal_states=((0, 6),)\n",
        "  )\n",
        "  return env\n",
        "\n",
        "def render_policy(env, policy=None, horizon=50):\n",
        "  \"\"\"Visualize a policy in an environment\n",
        "\n",
        "  Args:\n",
        "    env: GridWorld\n",
        "        environment where to run the policy\n",
        "    policy: np.array\n",
        "        matrix mapping states to action (Ns).\n",
        "        If None, runs random policy.\n",
        "    horizon: int\n",
        "        maximum number of timesteps in the environment.\n",
        "  \"\"\"\n",
        "  env.enable_rendering()\n",
        "  state = env.reset()                       # get initial state\n",
        "  for timestep in range(horizon):\n",
        "      if policy is None:\n",
        "        action = env.action_space.sample()  # take random actions\n",
        "      else:\n",
        "        action = policy[state]\n",
        "      next_state, reward, is_terminal, info = env.step(action)\n",
        "      state = next_state\n",
        "      if is_terminal:\n",
        "        break\n",
        "  # save video and clear buffer\n",
        "  env.save_video('./videos/gw.mp4', framerate=5)\n",
        "  env.clear_render_buffer()\n",
        "  env.disable_rendering()\n",
        "  # show video\n",
        "  show_video('./videos/gw.mp4')\n"
      ],
      "execution_count": 29,
      "outputs": []
    },
    {
      "cell_type": "code",
      "metadata": {
        "id": "hQAHUBw_ifMI",
        "colab": {
          "base_uri": "https://localhost:8080/",
          "height": 547
        },
        "outputId": "9fdc570a-3411-4993-e4ac-89bf0518ad54"
      },
      "source": [
        "# Create an environment and visualize it\n",
        "env = get_env()\n",
        "render_policy(env)  # visualize random policy\n",
        "\n",
        "# The reward function and transition probabilities can be accessed through\n",
        "# the R and P attributes:\n",
        "print(f\"Shape of the reward array = (S, A) = {env.R.shape}\")\n",
        "print(f\"Shape of the transition array = (S, A, S) = {env.P.shape}\")\n",
        "print(f\"Reward at (s, a) = (1, 0): {env.R[1, 0]}\")\n",
        "print(f\"Prob[s\\'=2 | s=1, a=0]: {env.P[1, 0, 2]}\")\n",
        "print(f\"Number of states and actions: {env.Ns}, {env.Na}\")\n",
        "\n",
        "# The states in the griworld correspond to (row, col) coordinates.\n",
        "# The environment provides a mapping between (row, col) and the index of\n",
        "# each state:\n",
        "print(f\"Index of state (1, 0): {env.coord2index[(1, 0)]}\")\n",
        "print(f\"Coordinates of state 5: {env.index2coord[5]}\")"
      ],
      "execution_count": 30,
      "outputs": [
        {
          "output_type": "display_data",
          "data": {
            "text/plain": [
              "<IPython.core.display.HTML object>"
            ],
            "text/html": [
              "<video alt=\"videos/gw.mp4\" autoplay\n",
              "                      loop controls style=\"height: 400px;\">\n",
              "                    <source src=\"data:video/mp4;base64,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\" type=\"video/mp4\" />\n",
              "                 </video>"
            ]
          },
          "metadata": {}
        },
        {
          "output_type": "stream",
          "name": "stdout",
          "text": [
            "Shape of the reward array = (S, A) = (31, 4)\n",
            "Shape of the transition array = (S, A, S) = (31, 4, 31)\n",
            "Reward at (s, a) = (1, 0): 0.0\n",
            "Prob[s'=2 | s=1, a=0]: 0.04999999999999999\n",
            "Number of states and actions: 31, 4\n",
            "Index of state (1, 0): 6\n",
            "Coordinates of state 5: (0, 6)\n"
          ]
        }
      ]
    },
    {
      "cell_type": "markdown",
      "metadata": {
        "id": "ibGD_3I89CNu"
      },
      "source": [
        "# Part 1 - Dynamic Programming"
      ]
    },
    {
      "cell_type": "markdown",
      "metadata": {
        "id": "NR7h5won9NQY"
      },
      "source": [
        "## Question 1.1\n",
        "\n",
        "Consider a general MDP with a discount factor of $\\gamma < 1$. Assume that the horizon is infinite (so there is no termination). A policy $\\pi$ in this MDP\n",
        "induces a value function $V^\\pi$. Suppose an affine transformation is applied to the reward, what is\n",
        "the new value function? Is the optimal policy preserved?\n",
        "\n"
      ]
    },
    {
      "cell_type": "markdown",
      "metadata": {
        "id": "313W4K3B_LtN"
      },
      "source": [
        "### **Answer**\n",
        "\n",
        "[your answer here]"
      ]
    },
    {
      "cell_type": "markdown",
      "metadata": {
        "id": "0uCVgkDo9vTM"
      },
      "source": [
        "## Question 1.2\n",
        "\n",
        "Consider an infinite-horizon $\\gamma$-discounted MDP. We denote by $Q^*$ the $Q$-function of the optimal policy $\\pi^*$. Prove that, for any function $Q(s, a)$ (which is **not** necessarily the value function of a policy), the following inequality holds for any state $s$:\n",
        "\n",
        "$$\n",
        "V^{\\pi_Q}(s) \\geq V^*(s) - \\frac{2}{1-\\gamma}||Q^*-Q||_\\infty,\n",
        "$$\n",
        "\n",
        "where $||Q^*-Q||_\\infty = \\max_{s, a} |Q^*(s, a) - Q(s, a)|$ and $\\pi_Q(s) \\in \\arg\\max_a Q(s, a)$. Can you use this result to show that any policy $\\pi$ such that $\\pi(s) \\in \\arg\\max_a Q^*(s, a)$ is optimal?"
      ]
    },
    {
      "cell_type": "markdown",
      "metadata": {
        "id": "8MqGWPPD_OAI"
      },
      "source": [
        "### **Answer**\n",
        "\n",
        "[your answer here]"
      ]
    },
    {
      "cell_type": "markdown",
      "metadata": {
        "id": "yIrtb7sihYcM"
      },
      "source": [
        "## Question 1.3\n",
        "\n",
        "In this question, you will implement and compare the policy and value iteration algorithms for a finite MDP. \n",
        "\n",
        "Complete the functions `policy_evaluation`, `policy_iteration` and `value_iteration` below.\n",
        "\n",
        "\n",
        "Compare value iteration and policy iteration. Highlight pros and cons of each method."
      ]
    },
    {
      "cell_type": "markdown",
      "metadata": {
        "id": "GLmQtk-wt0HS"
      },
      "source": [
        "### **Answer**\n",
        "\n",
        "[pros/cons of each method + implementation below]"
      ]
    },
    {
      "cell_type": "code",
      "metadata": {
        "id": "9yI0YYtMmpDQ"
      },
      "source": [
        "def policy_evaluation(P, R, policy, gamma=0.9, tol=1e-2):\n",
        "    \"\"\"\n",
        "    Args:\n",
        "        P: np.array\n",
        "            transition matrix (NsxNaxNs)\n",
        "        R: np.array\n",
        "            reward matrix (NsxNa)\n",
        "        policy: np.array\n",
        "            matrix mapping states to action (Ns)\n",
        "        gamma: float\n",
        "            discount factor\n",
        "        tol: float\n",
        "            precision of the solution\n",
        "    Return:\n",
        "        value_function: np.array\n",
        "            The value function of the given policy\n",
        "    \"\"\"\n",
        "    Ns, Na = R.shape\n",
        "    # ====================================================\n",
        "\t  # YOUR IMPLEMENTATION HERE \n",
        "    # \n",
        "\n",
        "    # We use the bellman equation\n",
        "    value_function = np.zeros(Ns)\n",
        "    P_policed = np.choose(policy, np.moveaxis(P, [0,1,2] , [2,0,1] ) ).T\n",
        "    \n",
        "    temporary1 = np.linalg.inv(np.identity(Ns) - gamma*P_policed)\n",
        "    temporary2 = np.choose( policy , R.T) \n",
        "    value_function = temporary1  @ temporary2\n",
        "\n",
        "    # ====================================================\n",
        "    return value_function"
      ],
      "execution_count": 31,
      "outputs": []
    },
    {
      "cell_type": "code",
      "metadata": {
        "id": "ncqbPx99ncVY"
      },
      "source": [
        "def policy_iteration(P, R, gamma=0.9, tol=1e-3):\n",
        "    \"\"\"\n",
        "    Args:\n",
        "        P: np.array\n",
        "            transition matrix (NsxNaxNs)\n",
        "        R: np.array\n",
        "            reward matrix (NsxNa)\n",
        "        gamma: float\n",
        "            discount factor\n",
        "        tol: float\n",
        "            precision of the solution\n",
        "    Return:\n",
        "        policy: np.array\n",
        "            the final policy\n",
        "        V: np.array\n",
        "            the value function associated to the final policy\n",
        "    \"\"\"\n",
        "    Ns, Na = R.shape\n",
        "    V = np.zeros(Ns)\n",
        "    policy = np.ones(Ns, dtype=int)\n",
        "    # ====================================================\n",
        "\t  # YOUR IMPLEMENTATION HERE \n",
        "    #\n",
        "\n",
        "    # we initiate V2 in a way that the loop does start\n",
        "    V2 = np.ones(Ns) + tol\n",
        "    while np.max( np.absolute(V2 - V) ) > tol/2 : # This is not very rigorous REVOIR\n",
        "      V2 = np.copy(V)\n",
        "      V = policy_evaluation(P,R,policy , gamma=gamma, tol=tol)\n",
        "      # policy = np.argmax(R + gamma*P@V, axis = 1 )\n",
        "      policy = np.argmax(R + gamma*np.einsum(\"ijk,k->ij\",P,V) , axis = 1 )\n",
        "    # ====================================================\n",
        "    return policy, V"
      ],
      "execution_count": 32,
      "outputs": []
    },
    {
      "cell_type": "code",
      "metadata": {
        "id": "3jB7dfA5nRCZ"
      },
      "source": [
        "def value_iteration(P, R, gamma=0.9, tol=1e-3):\n",
        "    \"\"\"\n",
        "    Args:\n",
        "        P: np.array\n",
        "            transition matrix (NsxNaxNs)\n",
        "        R: np.array\n",
        "            reward matrix (NsxNa)\n",
        "        gamma: float\n",
        "            discount factor\n",
        "        tol: float\n",
        "            precision of the solution\n",
        "    Return:\n",
        "        Q: final Q-function (at iteration n)\n",
        "        greedy_policy: greedy policy wrt Qn\n",
        "        Qfs: all Q-functions generated by the algorithm (for visualization)\n",
        "    \"\"\"\n",
        "    Ns, Na = R.shape\n",
        "    Q = np.zeros((Ns, Na))\n",
        "    Qfs = [Q]\n",
        "    # ====================================================\n",
        "\t  # YOUR IMPLEMENTATION HERE \n",
        "    #\n",
        "    Q = Q + np.max(R) + 1\n",
        "    # K is an uper bound on number of iterations necessary to have the wanted precision (calculated in class)\n",
        "    K = int( np.log(tol*(1-gamma)/np.max(R))/np.log(gamma) ) +1\n",
        "    greedy_policy = np.argmax(Q, axis=1)\n",
        "\n",
        "    for i in range(K) :\n",
        "      Q = R + gamma*P@np.max(Q, axis = 1)  \n",
        "      Qfs.append(Q)\n",
        "    greedy_policy = np.argmax( Q , axis = 1 )\n",
        "    # ====================================================\n",
        "    return Q, greedy_policy, Qfs"
      ],
      "execution_count": 33,
      "outputs": []
    },
    {
      "cell_type": "markdown",
      "metadata": {
        "id": "-Fi0IzZJp74Z"
      },
      "source": [
        "### Testing your code"
      ]
    },
    {
      "cell_type": "code",
      "metadata": {
        "id": "P7JKrc1oqFI2",
        "colab": {
          "base_uri": "https://localhost:8080/",
          "height": 1193
        },
        "outputId": "3f5fc15a-db14-4bd1-8358-edec1ed2f09e"
      },
      "source": [
        "import time\n",
        "\n",
        "# Parameters\n",
        "tol = 1e-8 #  tol = 1e-5\n",
        "gamma = 0.99\n",
        "\n",
        "# Environment\n",
        "env = get_env()\n",
        "\n",
        "# run value iteration to obtain Q-values\n",
        "begining1 = time.time()\n",
        "VI_Q, VI_greedypol, all_qfunctions = value_iteration(env.P, env.R, gamma=gamma, tol=tol)\n",
        "end1 = time.time()\n",
        "# render the policy\n",
        "print(\"[VI]Greedy policy: \")\n",
        "render_policy(env, VI_greedypol)\n",
        "\n",
        "# compute the value function of the greedy policy using matrix inversion\n",
        "# ====================================================\n",
        "# YOUR IMPLEMENTATION HERE \n",
        "# compute value function of the greedy policy\n",
        "#\n",
        "\n",
        "\n",
        "\n",
        "begining2 = time.time()\n",
        "greedy_V = policy_evaluation(env.P, env.R, VI_greedypol, gamma=gamma, tol=tol)\n",
        "end2 = time.time()\n",
        "\n",
        "# ====================================================\n",
        "\n",
        "# show the error between the computed V-functions and the final V-function\n",
        "# (that should be the optimal one, if correctly implemented)\n",
        "# as a function of time\n",
        "final_V = all_qfunctions[-1].max(axis=1)\n",
        "norms = [ np.linalg.norm(q.max(axis=1) - final_V) for q in all_qfunctions]\n",
        "plt.plot(norms)\n",
        "plt.xlabel('Iteration')\n",
        "plt.ylabel('Error')\n",
        "plt.title(\"Value iteration: convergence\")\n",
        "\n",
        "#### POLICY ITERATION ####\n",
        "begining3 = time.time()\n",
        "PI_policy, PI_V = policy_iteration(env.P, env.R, gamma=gamma, tol=tol)\n",
        "end3 = time.time()\n",
        "print(\"\\n[PI]final policy: \")\n",
        "render_policy(env, PI_policy)\n",
        "\n",
        "## Uncomment below to check that everything is correct\n",
        "assert np.allclose(PI_policy, VI_greedypol),\\\n",
        "   \"You should check the code, the greedy policy computed by VI is not equal to the solution of PI\"\n",
        "assert np.allclose(PI_V, greedy_V),\\\n",
        "   \"Since the policies are equal, even the value function should be\"\n",
        "\n",
        "plt.show()\n",
        "\n",
        "print('the time needed for value_iteration : ', end1 + end2 - begining2 - begining1, \"seconds\")\n",
        "print('the time needed for policy_iteration : ', end3 - begining3, \"seconds\")"
      ],
      "execution_count": 34,
      "outputs": [
        {
          "output_type": "stream",
          "name": "stdout",
          "text": [
            "[VI]Greedy policy: \n"
          ]
        },
        {
          "output_type": "display_data",
          "data": {
            "text/plain": [
              "<IPython.core.display.HTML object>"
            ],
            "text/html": [
              "<video alt=\"videos/gw.mp4\" autoplay\n",
              "                      loop controls style=\"height: 400px;\">\n",
              "                    <source src=\"data:video/mp4;base64,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\" type=\"video/mp4\" />\n",
              "                 </video>"
            ]
          },
          "metadata": {}
        },
        {
          "output_type": "stream",
          "name": "stdout",
          "text": [
            "\n",
            "[PI]final policy: \n"
          ]
        },
        {
          "output_type": "display_data",
          "data": {
            "text/plain": [
              "<IPython.core.display.HTML object>"
            ],
            "text/html": [
              "<video alt=\"videos/gw.mp4\" autoplay\n",
              "                      loop controls style=\"height: 400px;\">\n",
              "                    <source src=\"data:video/mp4;base64,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\" type=\"video/mp4\" />\n",
              "                 </video>"
            ]
          },
          "metadata": {}
        },
        {
          "output_type": "display_data",
          "data": {
            "text/plain": [
              "<Figure size 432x288 with 1 Axes>"
            ],
            "image/png": "[encoded data removed]"
          },
          "metadata": {
            "needs_background": "light"
          }
        },
        {
          "output_type": "stream",
          "name": "stdout",
          "text": [
            "the time needed for value_iteration :  0.07198071479797363 seconds\n",
            "the time needed for policy_iteration :  0.0024139881134033203 seconds\n"
          ]
        }
      ]
    },
    {
      "cell_type": "markdown",
      "metadata": {
        "id": "2V1QdoH-xFX0"
      },
      "source": [
        "# Part 2 - Tabular RL"
      ]
    },
    {
      "cell_type": "markdown",
      "metadata": {
        "id": "Qf51VhoPxbV4"
      },
      "source": [
        "## Question 2.1\n",
        "\n",
        "The code below collects two datasets of transitions (containing states, actions, rewards and next states) for a discrete MDP.\n",
        "\n",
        "For each of the datasets:\n",
        "\n",
        "1. Estimate the transitions and rewards, $\\hat{P}$ and $\\hat{R}$.\n",
        "2. Compute the optimal value function and the optimal policy with respect to the estimated MDP (defined by $\\hat{P}$ and $\\hat{R}$), which we denote by $\\hat{\\pi}$ and $\\hat{V}$.\n",
        "3. Numerically compare the performance of $\\hat{\\pi}$ and $\\pi^\\star$ (the true optimal policy), and the error between $\\hat{V}$ and $V^*$ (the true optimal value function).\n",
        "\n",
        "Which of the two data collection methods do you think is better? Why?"
      ]
    },
    {
      "cell_type": "markdown",
      "metadata": {
        "id": "eWSyewG2EZpJ"
      },
      "source": [
        "### **Answer**\n",
        "\n",
        "[answer last question + implementation below]"
      ]
    },
    {
      "cell_type": "code",
      "metadata": {
        "id": "8lNPhB28EcGd"
      },
      "source": [
        "def get_random_policy_dataset(env, n_samples):\n",
        "  \"\"\"Get a dataset following a random policy to collect data.\"\"\"\n",
        "  states = []\n",
        "  actions = []\n",
        "  rewards = []\n",
        "  next_states = []\n",
        "  \n",
        "  state = env.reset()\n",
        "  for _ in range(n_samples):\n",
        "    action = env.action_space.sample()\n",
        "    next_state, reward, is_terminal, info = env.step(action)\n",
        "    states.append(state)\n",
        "    actions.append(action)\n",
        "    rewards.append(reward)\n",
        "    next_states.append(next_state)\n",
        "    # update state\n",
        "    state = next_state\n",
        "    if is_terminal:\n",
        "      state = env.reset()\n",
        "\n",
        "  dataset = (states, actions, rewards, next_states)\n",
        "  return dataset\n",
        "\n",
        "def get_uniform_dataset(env, n_samples):\n",
        "  \"\"\"Get a dataset by uniformly sampling states and actions.\"\"\"\n",
        "  states = []\n",
        "  actions = []\n",
        "  rewards = []\n",
        "  next_states = []\n",
        "  for _ in range(n_samples):\n",
        "    state = env.observation_space.sample()\n",
        "    action = env.action_space.sample()\n",
        "    next_state, reward, is_terminal, info = env.sample(state, action)\n",
        "    states.append(state)\n",
        "    actions.append(action)\n",
        "    rewards.append(reward)\n",
        "    next_states.append(next_state)\n",
        "\n",
        "  dataset = (states, actions, rewards, next_states)\n",
        "  return dataset\n",
        "\n",
        "# Collect two different datasets\n",
        "num_samples = 500 # REVOIR num_samples = 500\n",
        "env = get_env()\n",
        "\n",
        "# Item 3: Estimate the MDP with the two datasets; compare the optimal value\n",
        "# functions in the true and in the estimated MDPs\n",
        "\n",
        "\n",
        "\n",
        "# To compare performance we average the performance over 100 trials"
      ],
      "execution_count": 35,
      "outputs": []
    },
    {
      "cell_type": "code",
      "source": [
        "average_value1 = 0\n",
        "average_policy_performance1 = 0\n",
        "num_iter = 100\n",
        "for ghjkl in range(num_iter) :\n",
        "\n",
        "  dataset_1 = get_random_policy_dataset(env, num_samples)\n",
        "  (states, actions, rewards, next_states) = dataset_1\n",
        "\n",
        "\n",
        "  # Ns = max( np.max(states) , np.max(next_states) ) + 1\n",
        "  # Na = np.max(actions) + 1\n",
        "  # We assume that we know Ns and Na for this comparison otherwise the average might not compute properly\n",
        "  Ns = 31\n",
        "  Na = 4\n",
        "\n",
        "  P1_hat = np.zeros((Ns,Na,Ns))\n",
        "  R1_hat = np.zeros((Ns,Na))\n",
        "  for i in range(len(dataset_1[0])) :\n",
        "    R1_hat[dataset_1[0][i]][dataset_1[1][i]] = R1_hat[dataset_1[0][i]][dataset_1[1][i]] + dataset_1[2][i]\n",
        "    P1_hat[dataset_1[0][i]][dataset_1[1][i]][dataset_1[3][i]] = P1_hat[dataset_1[0][i]][dataset_1[1][i]][dataset_1[3][i]] +1 \n",
        "\n",
        "\n",
        "\n",
        "\n",
        "  # we choses to put probabilities in states we never explore :  we suppose that states we never explore are 'traps' in which any action leads to staying in the same state\n",
        "  # that way the policy we find never tries to go in those states.\n",
        "  for k in range(P1_hat.shape[0]) :\n",
        "    for l in range(P1_hat.shape[1]) :\n",
        "      temp = 0\n",
        "      for m in range(P1_hat.shape[2]) :\n",
        "        temp += P1_hat[k,l,m]\n",
        "      if temp ==0 :\n",
        "        P1_hat[k,l,k] = 1\n",
        "\n",
        "  b = np.sum(P1_hat,axis =  2)\n",
        "  c = R1_hat \n",
        "  d = np.sum(P1_hat, axis = 2)\n",
        "  R1_hat = np.divide(c, b, out=np.zeros_like(c), where=d!=0)\n",
        "  P1_hat = (P1_hat.T/d.T).T\n",
        "\n",
        "  policy , V = policy_iteration(P1_hat, R1_hat, gamma=gamma, tol = tol)\n",
        "  average_value1 = average_value1 + V\n",
        "  average_policy_performance1 += policy_evaluation(env.P, env.R, policy, gamma=gamma, tol=tol)\n",
        "\n",
        "average_value1 = average_value1/num_iter\n",
        "average_policy_performance1 = average_policy_performance1/num_iter\n",
        "\n",
        "print(\"for the random policy sampling :\")\n",
        "print(\"the average error between the performance of pi and that if pi* is \", np.mean(- average_policy_performance1[0] + PI_V[0] ))\n",
        "print(\"the average error between the estimated value and the real value is \", np.mean(- average_value1[0] + PI_V[0] ) )"
      ],
      "metadata": {
        "id": "GOl0xQv0IsAc",
        "colab": {
          "base_uri": "https://localhost:8080/",
          "height": 0
        },
        "outputId": "9bb3d371-77ef-4578-a213-9cd6cbeeb3e5"
      },
      "execution_count": 36,
      "outputs": [
        {
          "output_type": "stream",
          "name": "stdout",
          "text": [
            "for the random policy sampling :\n",
            "the average error between the performance of pi and that if pi* is  70.46368682517125\n",
            "the average error between the estimated value and the real value is  67.91664157977323\n"
          ]
        }
      ]
    },
    {
      "cell_type": "code",
      "source": [
        "average_value2 = 0\n",
        "average_policy_performance2 = 0\n",
        "num_iter = 100\n",
        "for ghjkl in range(num_iter) :\n",
        "  dataset_2 = get_uniform_dataset(env, num_samples)\n",
        "  (states, actions, rewards, next_states) = dataset_2\n",
        "\n",
        "  # Ns = max( np.max(states) , np.max(next_states) ) + 1\n",
        "  # Na = np.max(actions) + 1\n",
        "  # We assume that we know Ns and Na for this comparison otherwise the average might not compute properly\n",
        "  Ns = 31\n",
        "  Na = 4\n",
        "\n",
        "\n",
        "  P2_hat = np.zeros((Ns,Na,Ns))\n",
        "  R2_hat = np.zeros((Ns,Na))\n",
        "  for i in range(len(dataset_2[0])) :\n",
        "    R2_hat[dataset_2[0][i]][dataset_2[1][i]] = R2_hat[dataset_2[0][i]][dataset_2[1][i]] + dataset_2[2][i]\n",
        "    P2_hat[dataset_2[0][i]][dataset_2[1][i]][dataset_2[3][i]] = P2_hat[dataset_2[0][i]][dataset_2[1][i]][dataset_2[3][i]] +1 \n",
        "\n",
        "\n",
        "  # we choses to put probabilities in states we never explore :  we suppose that states we never explore are 'traps' in which any action leads to staying in the same state\n",
        "  # that way the policy we find never tries to go in those states.\n",
        "  for k in range(P2_hat.shape[0]) :\n",
        "    for l in range(P2_hat.shape[1]) :\n",
        "      temp = 0\n",
        "      for m in range(P2_hat.shape[2]) :\n",
        "        temp += P2_hat[k,l,m]\n",
        "      if temp ==0 :\n",
        "        P2_hat[k,l,0] = 1\n",
        "        \n",
        "  b = np.sum(P2_hat,axis =  2)\n",
        "  c = R2_hat \n",
        "  d = np.sum(P2_hat, axis = 2)\n",
        "  R2_hat = np.divide(c, b, out=np.zeros_like(c), where=d!=0)\n",
        "  P2_hat = (P2_hat.T/d.T).T\n",
        "\n",
        "  policy , V = policy_iteration(P2_hat, R2_hat, gamma=gamma, tol = tol)\n",
        "  average_value2 = average_value2 + V\n",
        "  average_policy_performance2 += policy_evaluation(env.P, env.R, policy, gamma=gamma, tol=tol)\n",
        "\n",
        "average_value2 = average_value2/num_iter\n",
        "average_policy_performance2 = average_policy_performance2/num_iter\n",
        "\n",
        "print(\"for the uniform sampling :\")\n",
        "print(\"the average error between the performance of pi and that if pi* is \", np.mean(- average_policy_performance2[0] + PI_V[0] ))\n",
        "print(\"the average error between the estimated value and the real value is \", np.mean(- average_value2[0] + PI_V[0] ) )"
      ],
      "metadata": {
        "id": "7HyYW6VHIozi",
        "colab": {
          "base_uri": "https://localhost:8080/",
          "height": 0
        },
        "outputId": "b21ef3a9-cd63-4f26-b9c3-8a4d302cca47"
      },
      "execution_count": 37,
      "outputs": [
        {
          "output_type": "stream",
          "name": "stdout",
          "text": [
            "for the uniform sampling :\n",
            "the average error between the performance of pi and that if pi* is  3.9942851932034102\n",
            "the average error between the estimated value and the real value is  1.3212754793936625\n"
          ]
        }
      ]
    },
    {
      "cell_type": "markdown",
      "metadata": {
        "id": "UKINsa_yGLGL"
      },
      "source": [
        "## Question 2.2\n",
        "\n",
        "Suppose that $\\hat{P}$ and $\\hat{R}$ are estimated from a dataset of exactly $N$ i.i.d. samples from **each** state-action pair. This means that, for each $(s,a)$, we have $N$ samples $\\{(s_1',r_1, \\dots, s_N', r_N\\}$, where $s_i' \\sim P(\\cdot | s,a)$ and $r_i \\sim R(s,a)$ for $i=1,\\dots,N$, and\n",
        "$$ \\hat{P}(s'|s,a) = \\frac{1}{N}\\sum_{i=1}^N \\mathbb{1}(s_i' = s'), $$\n",
        "$$ \\hat{R}(s,a) = \\frac{1}{N}\\sum_{i=1}^N r_i.$$\n",
        "Suppose that $R$ is a distribution with support in $[0,1]$. Let $\\hat{V}$ be the optimal value function computed in the empirical MDP (i.e., the one with transitions $\\hat{P}$ and rewards $\\hat{R}$). For any $\\delta\\in(0,1)$, derive an upper bound to the error\n",
        "\n",
        "$$ \\| \\hat{V} - V^* \\|_\\infty $$\n",
        "\n",
        "which holds with probability at least $1-\\delta$.\n",
        "\n",
        "**Note** Your bound should only depend on deterministic quantities like $N$, $\\gamma$, $\\delta$, $S$, $A$. It should *not* dependent on the actual random samples.\n",
        "\n",
        "**Hint** The following two inequalities may be helpful.\n",
        "\n",
        "1. **A (simplified) lemma**. For any state $\\bar{s}$,\n",
        "\n",
        "$$ |\\hat{V}(\\bar{s}) - V^*(\\bar{s})| \\leq \\frac{1}{1-\\gamma}\\max_{s,a} \\left| R(s,a) - \\hat{R}(s,a) + \\gamma \\sum_{s'}(P(s'|s,a) - \\hat{P}(s'|s,a)) V^*(s') \\right|$$\n",
        "\n",
        "2. **Hoeffding's inequality**. Let $X_1, \\dots X_N$ be $N$ i.i.d. random variables bounded in the interval $[0,b]$ for some $b>0$. Let $\\bar{X} = \\frac{1}{N}\\sum_{i=1}^N X_i$ be the empirical mean. Then, for any $\\epsilon > 0$,\n",
        "\n",
        "$$ \\mathbb{P}(|\\bar{X} - \\mathbb{E}[\\bar{X}]| > \\epsilon) \\leq 2e^{-\\frac{2N\\epsilon^2}{b^2}}.$$"
      ]
    },
    {
      "cell_type": "markdown",
      "metadata": {
        "id": "fKmdulLaMoiN"
      },
      "source": [
        "### **Answer**\n",
        "\n",
        "[your derivation here]"
      ]
    },
    {
      "cell_type": "markdown",
      "metadata": {
        "id": "tpqwCBG2MwxO"
      },
      "source": [
        "## Question 2.3\n",
        "\n",
        "Suppose once again that we are given a dataset of $N$ samples in the form of tuples $(s_i,a_i,s_i',r_i)$. We know that each tuple contains a valid transition from the true MDP, i.e., $s_i' \\sim P(\\cdot | s_i, a_i)$ and $r_i \\sim R(s_i,a_i)$, while the state-action pairs $(s_i,a_i)$ from which the transition started can be arbitrary.\n",
        "\n",
        "Suppose we want to apply Q-learning to this MDP. Can you think of a way to leverage this offline data to improve the sample-efficiency of the algorithm? What if we were using SARSA instead?"
      ]
    },
    {
      "cell_type": "markdown",
      "metadata": {
        "id": "mbYTKetHOYU_"
      },
      "source": [
        "### **Answer**\n",
        "\n",
        "[your answer here]"
      ]
    },
    {
      "cell_type": "markdown",
      "metadata": {
        "id": "542QxKsSOs21"
      },
      "source": [
        "# Part 3 - RL with Function Approximation"
      ]
    },
    {
      "cell_type": "markdown",
      "metadata": {
        "id": "OiGZBiJ4PiIE"
      },
      "source": [
        "## Question 3.1\n",
        "\n",
        "Given a datset $(s_i, a_i, r_i, s_i')$ of (states, actions, rewards, next states), the Fitted Q-Iteration (FQI) algorithm proceeds as follows:\n",
        "\n",
        "\n",
        "* We start from a $Q$ function $Q_0 \\in \\mathcal{F}$, where $\\mathcal{F}$ is a function space;\n",
        "* At every iteration $k$, we compute $Q_{k+1}$ as:\n",
        "\n",
        "$$\n",
        "Q_{k+1}\\in\\arg\\min_{f\\in\\mathcal{F}} \\frac{1}{2}\\sum_{i=1}^N\n",
        "\\left(\n",
        "  f(s_i, a_i) - y_i^k\n",
        "\\right)^2 + \\lambda \\Omega(f)\n",
        "$$\n",
        "where $y_i^k = r_i + \\gamma \\max_{a'}Q_k(s_i', a')$, $\\Omega(f)$ is a regularization term and $\\lambda > 0$ is the regularization coefficient.\n",
        "\n",
        "\n",
        "Consider FQI with *linear* function approximation. That is, for a given feature map $\\phi : S \\rightarrow \\mathbb{R}^d$, we consider a parametric family of $Q$ functions $Q_\\theta(s,a) = \\phi(s)^T\\theta_a$ for $\\theta_a\\in\\mathbb{R}^d$. Suppose we are applying FQI on a given dataset of $N$ tuples of the form $(s_i, a_i, r_i, s_i')$ and we are at the $k$-th iteration. Let $\\theta_k \\in\\mathbb{R}^{d \\times A}$ be our current parameter. Derive the *closed-form* update to find $\\theta_{k+1}$, using $\\frac{1}{2}\\sum_a ||\\theta_a||_2^2$ as regularization."
      ]
    },
    {
      "cell_type": "markdown",
      "metadata": {
        "id": "7jx7aE41DkEM"
      },
      "source": [
        "### **Answer**\n",
        "\n",
        "[your derivation here]"
      ]
    },
    {
      "cell_type": "markdown",
      "metadata": {
        "id": "ewHzjm7MVGBg"
      },
      "source": [
        "## Question 3.2\n",
        "\n",
        "The code below creates a larger gridworld (with more states than the one used in the previous questions), and defines a feature map. Implement linear FQI to this environment (in the function `linear_fqi()` below), and compare the approximated $Q$ function to the optimal $Q$ function computed with value iteration.\n",
        "\n",
        "Can you improve the feature map in order to reduce the approximation error?"
      ]
    },
    {
      "cell_type": "markdown",
      "metadata": {
        "id": "Tu4g-HSnEcBs"
      },
      "source": [
        "### **Answer**\n",
        "\n",
        "[explanation about how you tried to reduce the approximation error + FQI implementation below]"
      ]
    },
    {
      "cell_type": "code",
      "metadata": {
        "id": "ZovF3VXOVfCs"
      },
      "source": [
        "def get_large_gridworld():\n",
        "  \"\"\"Creates an instance of a grid-world MDP with more states.\"\"\"\n",
        "  walls = [(ii, 10) for ii in range(15) if (ii != 7 and ii != 8)]\n",
        "  env = GridWorld(\n",
        "      nrows=15,\n",
        "      ncols=15,\n",
        "      reward_at = {(14, 14):1.0},\n",
        "      walls=tuple(walls),\n",
        "      success_probability=0.9,\n",
        "      terminal_states=((14, 14),)\n",
        "  )\n",
        "  return env\n",
        "\n",
        "\n",
        "class GridWorldFeatureMap:\n",
        "  \"\"\"Create features for state-action pairs\n",
        "  \n",
        "  Args:\n",
        "    dim: int\n",
        "      Feature dimension\n",
        "    sigma: float\n",
        "      RBF kernel bandwidth\n",
        "  \"\"\"\n",
        "  def __init__(self, env, dim=15, sigma=0.25):\n",
        "    self.index2coord = env.index2coord\n",
        "    self.n_states = env.Ns\n",
        "    self.n_actions = env.Na\n",
        "    self.dim = dim\n",
        "    self.sigma = sigma\n",
        "\n",
        "    n_rows = env.nrows\n",
        "    n_cols = env.ncols\n",
        "\n",
        "    # build similarity matrix\n",
        "    sim_matrix = np.zeros((self.n_states, self.n_states))\n",
        "    for ii in range(self.n_states):\n",
        "        row_ii, col_ii = self.index2coord[ii]\n",
        "        x_ii = row_ii / n_rows\n",
        "        y_ii = col_ii / n_cols\n",
        "        for jj in range(self.n_states):\n",
        "            row_jj, col_jj = self.index2coord[jj]\n",
        "            x_jj = row_jj / n_rows\n",
        "            y_jj = col_jj / n_cols\n",
        "            dist = np.sqrt((x_jj - x_ii) ** 2.0 + (y_jj - y_ii) ** 2.0)\n",
        "            sim_matrix[ii, jj] = np.exp(-(dist / sigma) ** 2.0)\n",
        "\n",
        "    # factorize similarity matrix to obtain features\n",
        "    uu, ss, vh = np.linalg.svd(sim_matrix, hermitian=True)\n",
        "    self.feats = vh[:dim, :]\n",
        "\n",
        "  def map(self, observation):\n",
        "    feat = self.feats[:, observation].copy()\n",
        "    return feat"
      ],
      "execution_count": 38,
      "outputs": []
    },
    {
      "cell_type": "code",
      "metadata": {
        "id": "InCfu7F9-TbS",
        "colab": {
          "base_uri": "https://localhost:8080/",
          "height": 511
        },
        "outputId": "8a11e542-71e5-4502-e00d-d8203849be81"
      },
      "source": [
        "env = get_large_gridworld()\n",
        "feat_map = GridWorldFeatureMap(env)\n",
        "\n",
        "# Visualize large gridworld\n",
        "render_policy(env)\n",
        "\n",
        "# The features have dimension (feature_dim).\n",
        "feature_example = feat_map.map(1) # feature representation of s=1\n",
        "print(feature_example)\n",
        "\n",
        "# Initial vector theta representing the Q function\n",
        "theta = np.zeros((feat_map.dim, env.action_space.n))\n",
        "print(theta.shape)\n",
        "print(feature_example @ theta) # approximation of Q(s=1, a)"
      ],
      "execution_count": 39,
      "outputs": [
        {
          "output_type": "display_data",
          "data": {
            "text/plain": [
              "<IPython.core.display.HTML object>"
            ],
            "text/html": [
              "<video alt=\"videos/gw.mp4\" autoplay\n",
              "                      loop controls style=\"height: 400px;\">\n",
              "                    <source src=\"data:video/mp4;base64,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\" type=\"video/mp4\" />\n",
              "                 </video>"
            ]
          },
          "metadata": {}
        },
        {
          "output_type": "stream",
          "name": "stdout",
          "text": [
            "[-0.02850699  0.063555   -0.02169407 -0.06441918  0.04505794 -0.07537777\n",
            "  0.08506473 -0.09325287  0.09644275 -0.00535101  0.11632395 -0.13074085\n",
            "  0.00921342 -0.13853662  0.07118419]\n",
            "(15, 4)\n",
            "[0. 0. 0. 0.]\n"
          ]
        }
      ]
    },
    {
      "cell_type": "code",
      "metadata": {
        "id": "p21KMmruugO1",
        "colab": {
          "base_uri": "https://localhost:8080/",
          "height": 687
        },
        "outputId": "32b6a24d-7284-4264-eee5-e427db07de48"
      },
      "source": [
        "def linear_fqi(env, feat_map, num_iterations, lambd=0.1, gamma=0.95):\n",
        "  \"\"\"\n",
        "  # Linear FQI implementation\n",
        "  # TO BE COMPLETED\n",
        "  \"\"\"\n",
        "\n",
        "  # get a dataset\n",
        "  dataset = get_uniform_dataset(env, n_samples=30000)\n",
        "  # OR dataset = get_random_policy_dataset(env, n_samples=...)\n",
        "\n",
        "  (states, actions, rewards, next_states) = dataset\n",
        "\n",
        "  theta = np.zeros((feat_map.dim, env.Na))\n",
        " \n",
        "  for it in range(num_iterations):\n",
        "    new_theta = np.zeros((feat_map.dim, env.Na))\n",
        "    for action in set(actions) :\n",
        "      I_a = [indice for (indice,act) in enumerate(actions) if act == action]\n",
        "      temp1 = lambd*np.identity(feat_map.dim) \n",
        "      temp2 = 0\n",
        "      for indice in I_a :\n",
        "        phi = feat_map.map(states[indice])\n",
        "        temp1 += np.outer(phi,phi)\n",
        "        temp2 += (rewards[indice] + gamma*np.max( np.einsum('i,ij->j',feat_map.map(next_states[indice]) , theta)) )*phi\n",
        "\n",
        "      new_theta[:,action] = np.dot(np.linalg.inv(temp1) , temp2)\n",
        "    theta = new_theta\n",
        "  return theta\n",
        "\n",
        "# ----------------------------\n",
        "# Environment and feature map\n",
        "# ----------------------------\n",
        "env = get_large_gridworld()\n",
        "# you can change the parameters of the feature map, and even try other maps!\n",
        "print(\"with 15 dimensions\")\n",
        "feat_map = GridWorldFeatureMap(env, dim=15, sigma=0.25)\n",
        "\n",
        "# -------\n",
        "# Run FQI\n",
        "# -------\n",
        "theta = linear_fqi(env, feat_map, num_iterations=100)\n",
        "\n",
        "# Compute and run greedy policy\n",
        "Q_fqi = np.zeros((env.Ns, env.Na))\n",
        "for ss in range(env.Ns):\n",
        "  state_feat = feat_map.map(ss)\n",
        "  Q_fqi[ss, :] = state_feat @ theta\n",
        "\n",
        "V_fqi = Q_fqi.max(axis=1)\n",
        "policy_fqi = Q_fqi.argmax(axis=1)\n",
        "render_policy(env, policy_fqi, horizon=100)\n",
        "\n",
        "# Visualize the approximate value function in the gridworld.\n",
        "img = env.get_layout_img(V_fqi)    \n",
        "plt.imshow(img)\n",
        "plt.show()"
      ],
      "execution_count": 40,
      "outputs": [
        {
          "output_type": "stream",
          "name": "stdout",
          "text": [
            "with 15 dimensions\n"
          ]
        },
        {
          "output_type": "display_data",
          "data": {
            "text/plain": [
              "<IPython.core.display.HTML object>"
            ],
            "text/html": [
              "<video alt=\"videos/gw.mp4\" autoplay\n",
              "                      loop controls style=\"height: 400px;\">\n",
              "                    <source src=\"data:video/mp4;base64,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\" type=\"video/mp4\" />\n",
              "                 </video>"
            ]
          },
          "metadata": {}
        },
        {
          "output_type": "display_data",
          "data": {
            "text/plain": [
              "<Figure size 432x288 with 1 Axes>"
            ],
            "image/png": "[encoded data removed]"
          },
          "metadata": {
            "needs_background": "light"
          }
        }
      ]
    },
    {
      "cell_type": "code",
      "source": [
        "# ----------------------------\n",
        "# Environment and feature map\n",
        "# ----------------------------\n",
        "env = get_large_gridworld()\n",
        "# you can change the parameters of the feature map, and even try other maps!\n",
        "print(\"with 35 dimensions\")\n",
        "feat_map = GridWorldFeatureMap(env, dim=35, sigma=0.25)\n",
        "\n",
        "# -------\n",
        "# Run FQI\n",
        "# -------\n",
        "theta = linear_fqi(env, feat_map, num_iterations=100)\n",
        "\n",
        "# Compute and run greedy policy\n",
        "Q_fqi = np.zeros((env.Ns, env.Na))\n",
        "for ss in range(env.Ns):\n",
        "  state_feat = feat_map.map(ss)\n",
        "  Q_fqi[ss, :] = state_feat @ theta\n",
        "\n",
        "V_fqi = Q_fqi.max(axis=1)\n",
        "policy_fqi = Q_fqi.argmax(axis=1)\n",
        "render_policy(env, policy_fqi, horizon=100)\n",
        "\n",
        "# Visualize the approximate value function in the gridworld.\n",
        "img = env.get_layout_img(V_fqi)    \n",
        "plt.imshow(img)\n",
        "plt.show()"
      ],
      "metadata": {
        "id": "n3zEU5IfpSk0",
        "colab": {
          "base_uri": "https://localhost:8080/",
          "height": 687
        },
        "outputId": "a02b2c29-70f5-4b61-c906-946e2846f064"
      },
      "execution_count": 41,
      "outputs": [
        {
          "output_type": "stream",
          "name": "stdout",
          "text": [
            "with 35 dimensions\n"
          ]
        },
        {
          "output_type": "display_data",
          "data": {
            "text/plain": [
              "<IPython.core.display.HTML object>"
            ],
            "text/html": [
              "<video alt=\"videos/gw.mp4\" autoplay\n",
              "                      loop controls style=\"height: 400px;\">\n",
              "                    <source src=\"data:video/mp4;base64,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\" type=\"video/mp4\" />\n",
              "                 </video>"
            ]
          },
          "metadata": {}
        },
        {
          "output_type": "display_data",
          "data": {
            "text/plain": [
              "<Figure size 432x288 with 1 Axes>"
            ],
            "image/png": "[encoded data removed]"
          },
          "metadata": {
            "needs_background": "light"
          }
        }
      ]
    },
    {
      "cell_type": "code",
      "source": [
        "# ----------------------------\n",
        "# Environment and feature map\n",
        "# ----------------------------\n",
        "env = get_large_gridworld()\n",
        "# you can change the parameters of the feature map, and even try other maps!\n",
        "print(\"with 70 dimensions\")\n",
        "feat_map = GridWorldFeatureMap(env, dim=70, sigma=0.25)\n",
        "\n",
        "# -------\n",
        "# Run FQI\n",
        "# -------\n",
        "theta = linear_fqi(env, feat_map, num_iterations=100)\n",
        "\n",
        "# Compute and run greedy policy\n",
        "Q_fqi = np.zeros((env.Ns, env.Na))\n",
        "for ss in range(env.Ns):\n",
        "  state_feat = feat_map.map(ss)\n",
        "  Q_fqi[ss, :] = state_feat @ theta\n",
        "\n",
        "V_fqi = Q_fqi.max(axis=1)\n",
        "policy_fqi = Q_fqi.argmax(axis=1)\n",
        "render_policy(env, policy_fqi, horizon=100)\n",
        "\n",
        "# Visualize the approximate value function in the gridworld.\n",
        "img = env.get_layout_img(V_fqi)    \n",
        "plt.imshow(img)\n",
        "plt.show()"
      ],
      "metadata": {
        "id": "4sEbMDxznZf9",
        "colab": {
          "base_uri": "https://localhost:8080/",
          "height": 687
        },
        "outputId": "610a3aac-e081-4e23-a27c-0d313d390751"
      },
      "execution_count": 42,
      "outputs": [
        {
          "output_type": "stream",
          "name": "stdout",
          "text": [
            "with 70 dimensions\n"
          ]
        },
        {
          "output_type": "display_data",
          "data": {
            "text/plain": [
              "<IPython.core.display.HTML object>"
            ],
            "text/html": [
              "<video alt=\"videos/gw.mp4\" autoplay\n",
              "                      loop controls style=\"height: 400px;\">\n",
              "                    <source src=\"data:video/mp4;base64,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\" type=\"video/mp4\" />\n",
              "                 </video>"
            ]
          },
          "metadata": {}
        },
        {
          "output_type": "display_data",
          "data": {
            "text/plain": [
              "<Figure size 432x288 with 1 Axes>"
            ],
            "image/png": "[encoded data removed]"
          },
          "metadata": {
            "needs_background": "light"
          }
        }
      ]
    },
    {
      "cell_type": "code",
      "source": [
        "# ----------------------------\n",
        "# Environment and feature map\n",
        "# ----------------------------\n",
        "env = get_large_gridworld()\n",
        "# you can change the parameters of the feature map, and even try other maps!\n",
        "print(\"with 140 dimensions\")\n",
        "feat_map = GridWorldFeatureMap(env, dim=140, sigma=0.25)\n",
        "\n",
        "# -------\n",
        "# Run FQI\n",
        "# -------\n",
        "theta = linear_fqi(env, feat_map, num_iterations=100)\n",
        "\n",
        "# Compute and run greedy policy\n",
        "Q_fqi = np.zeros((env.Ns, env.Na))\n",
        "for ss in range(env.Ns):\n",
        "  state_feat = feat_map.map(ss)\n",
        "  Q_fqi[ss, :] = state_feat @ theta\n",
        "\n",
        "V_fqi = Q_fqi.max(axis=1)\n",
        "policy_fqi = Q_fqi.argmax(axis=1)\n",
        "render_policy(env, policy_fqi, horizon=100)\n",
        "\n",
        "# Visualize the approximate value function in the gridworld.\n",
        "img = env.get_layout_img(V_fqi)    \n",
        "plt.imshow(img)\n",
        "plt.show()"
      ],
      "metadata": {
        "id": "GAlsY_E7no-_",
        "colab": {
          "base_uri": "https://localhost:8080/",
          "height": 687
        },
        "outputId": "7cbf33e7-212d-4648-86c7-68bb12f41e39"
      },
      "execution_count": 43,
      "outputs": [
        {
          "output_type": "stream",
          "name": "stdout",
          "text": [
            "with 140 dimensions\n"
          ]
        },
        {
          "output_type": "display_data",
          "data": {
            "text/plain": [
              "<IPython.core.display.HTML object>"
            ],
            "text/html": [
              "<video alt=\"videos/gw.mp4\" autoplay\n",
              "                      loop controls style=\"height: 400px;\">\n",
              "                    <source src=\"data:video/mp4;base64,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\" type=\"video/mp4\" />\n",
              "                 </video>"
            ]
          },
          "metadata": {}
        },
        {
          "output_type": "display_data",
          "data": {
            "text/plain": [
              "<Figure size 432x288 with 1 Axes>"
            ],
            "image/png": "[encoded data removed]"
          },
          "metadata": {
            "needs_background": "light"
          }
        }
      ]
    }
  ]
}